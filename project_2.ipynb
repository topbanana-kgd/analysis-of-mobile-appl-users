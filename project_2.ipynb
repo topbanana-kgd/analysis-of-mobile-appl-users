{
 "cells": [
  {
   "cell_type": "markdown",
   "metadata": {},
   "source": [
    "### Описание проекта"
   ]
  },
  {
   "cell_type": "markdown",
   "metadata": {},
   "source": [
    "Нужно разобраться, как ведут себя пользователи мобильного приложения. \n",
    "Изучить воронку продаж. Узнайть, как пользователи доходят до покупки. Сколько пользователей доходит до покупки, а сколько — «застревает» на предыдущих шагах? На каких именно?\n",
    "После этого необходимо исследовать результаты A/A/B-эксперимента. Дизайнеры захотели поменять шрифты во всём приложении, а менеджеры испугались, что пользователям будет непривычно. Договорились принять решение по результатам A/A/B-теста. Пользователей разбили на 3 группы: 2 контрольные со старыми шрифтами и одну экспериментальную — с новыми. Выясним, какой шрифт лучше.\n"
   ]
  },
  {
   "cell_type": "markdown",
   "metadata": {},
   "source": [
    "<div>\n",
    "    <h2> 1. Подготовка данных <a class=\"tocSkip\"> </h2>"
   ]
  },
  {
   "cell_type": "code",
   "execution_count": 1,
   "metadata": {},
   "outputs": [],
   "source": [
    "#импорт необходимых библиотек и инструментов\n",
    "import pandas as pd\n",
    "import datetime as dt\n",
    "import numpy as np\n",
    "import matplotlib.pyplot as plt\n",
    "import seaborn as sns\n",
    "from scipy import stats\n",
    "import math as mth\n",
    "import plotly.express as px \n",
    "import plotly.graph_objects as go"
   ]
  },
  {
   "cell_type": "code",
   "execution_count": 2,
   "metadata": {},
   "outputs": [],
   "source": [
    "try:\n",
    "    logs = pd.read_csv('/datasets/logs_exp.csv', sep='\\t')  \n",
    "    \n",
    "except:\n",
    "    logs = pd.read_csv('https://code.s3.yandex.net/datasets/logs_exp.csv', sep='\\t')\n"
   ]
  },
  {
   "cell_type": "code",
   "execution_count": 3,
   "metadata": {
    "scrolled": false
   },
   "outputs": [
    {
     "data": {
      "text/html": [
       "<div>\n",
       "<style scoped>\n",
       "    .dataframe tbody tr th:only-of-type {\n",
       "        vertical-align: middle;\n",
       "    }\n",
       "\n",
       "    .dataframe tbody tr th {\n",
       "        vertical-align: top;\n",
       "    }\n",
       "\n",
       "    .dataframe thead th {\n",
       "        text-align: right;\n",
       "    }\n",
       "</style>\n",
       "<table border=\"1\" class=\"dataframe\">\n",
       "  <thead>\n",
       "    <tr style=\"text-align: right;\">\n",
       "      <th></th>\n",
       "      <th>EventName</th>\n",
       "      <th>DeviceIDHash</th>\n",
       "      <th>EventTimestamp</th>\n",
       "      <th>ExpId</th>\n",
       "    </tr>\n",
       "  </thead>\n",
       "  <tbody>\n",
       "    <tr>\n",
       "      <th>0</th>\n",
       "      <td>MainScreenAppear</td>\n",
       "      <td>4575588528974610257</td>\n",
       "      <td>1564029816</td>\n",
       "      <td>246</td>\n",
       "    </tr>\n",
       "    <tr>\n",
       "      <th>1</th>\n",
       "      <td>MainScreenAppear</td>\n",
       "      <td>7416695313311560658</td>\n",
       "      <td>1564053102</td>\n",
       "      <td>246</td>\n",
       "    </tr>\n",
       "    <tr>\n",
       "      <th>2</th>\n",
       "      <td>PaymentScreenSuccessful</td>\n",
       "      <td>3518123091307005509</td>\n",
       "      <td>1564054127</td>\n",
       "      <td>248</td>\n",
       "    </tr>\n",
       "    <tr>\n",
       "      <th>3</th>\n",
       "      <td>CartScreenAppear</td>\n",
       "      <td>3518123091307005509</td>\n",
       "      <td>1564054127</td>\n",
       "      <td>248</td>\n",
       "    </tr>\n",
       "    <tr>\n",
       "      <th>4</th>\n",
       "      <td>PaymentScreenSuccessful</td>\n",
       "      <td>6217807653094995999</td>\n",
       "      <td>1564055322</td>\n",
       "      <td>248</td>\n",
       "    </tr>\n",
       "    <tr>\n",
       "      <th>...</th>\n",
       "      <td>...</td>\n",
       "      <td>...</td>\n",
       "      <td>...</td>\n",
       "      <td>...</td>\n",
       "    </tr>\n",
       "    <tr>\n",
       "      <th>244121</th>\n",
       "      <td>MainScreenAppear</td>\n",
       "      <td>4599628364049201812</td>\n",
       "      <td>1565212345</td>\n",
       "      <td>247</td>\n",
       "    </tr>\n",
       "    <tr>\n",
       "      <th>244122</th>\n",
       "      <td>MainScreenAppear</td>\n",
       "      <td>5849806612437486590</td>\n",
       "      <td>1565212439</td>\n",
       "      <td>246</td>\n",
       "    </tr>\n",
       "    <tr>\n",
       "      <th>244123</th>\n",
       "      <td>MainScreenAppear</td>\n",
       "      <td>5746969938801999050</td>\n",
       "      <td>1565212483</td>\n",
       "      <td>246</td>\n",
       "    </tr>\n",
       "    <tr>\n",
       "      <th>244124</th>\n",
       "      <td>MainScreenAppear</td>\n",
       "      <td>5746969938801999050</td>\n",
       "      <td>1565212498</td>\n",
       "      <td>246</td>\n",
       "    </tr>\n",
       "    <tr>\n",
       "      <th>244125</th>\n",
       "      <td>OffersScreenAppear</td>\n",
       "      <td>5746969938801999050</td>\n",
       "      <td>1565212517</td>\n",
       "      <td>246</td>\n",
       "    </tr>\n",
       "  </tbody>\n",
       "</table>\n",
       "<p>244126 rows × 4 columns</p>\n",
       "</div>"
      ],
      "text/plain": [
       "                      EventName         DeviceIDHash  EventTimestamp  ExpId\n",
       "0              MainScreenAppear  4575588528974610257      1564029816    246\n",
       "1              MainScreenAppear  7416695313311560658      1564053102    246\n",
       "2       PaymentScreenSuccessful  3518123091307005509      1564054127    248\n",
       "3              CartScreenAppear  3518123091307005509      1564054127    248\n",
       "4       PaymentScreenSuccessful  6217807653094995999      1564055322    248\n",
       "...                         ...                  ...             ...    ...\n",
       "244121         MainScreenAppear  4599628364049201812      1565212345    247\n",
       "244122         MainScreenAppear  5849806612437486590      1565212439    246\n",
       "244123         MainScreenAppear  5746969938801999050      1565212483    246\n",
       "244124         MainScreenAppear  5746969938801999050      1565212498    246\n",
       "244125       OffersScreenAppear  5746969938801999050      1565212517    246\n",
       "\n",
       "[244126 rows x 4 columns]"
      ]
     },
     "execution_count": 3,
     "metadata": {},
     "output_type": "execute_result"
    }
   ],
   "source": [
    "logs"
   ]
  },
  {
   "cell_type": "code",
   "execution_count": 4,
   "metadata": {},
   "outputs": [
    {
     "data": {
      "text/html": [
       "<div>\n",
       "<style scoped>\n",
       "    .dataframe tbody tr th:only-of-type {\n",
       "        vertical-align: middle;\n",
       "    }\n",
       "\n",
       "    .dataframe tbody tr th {\n",
       "        vertical-align: top;\n",
       "    }\n",
       "\n",
       "    .dataframe thead th {\n",
       "        text-align: right;\n",
       "    }\n",
       "</style>\n",
       "<table border=\"1\" class=\"dataframe\">\n",
       "  <thead>\n",
       "    <tr style=\"text-align: right;\">\n",
       "      <th></th>\n",
       "      <th>event</th>\n",
       "      <th>user_id</th>\n",
       "      <th>event_time</th>\n",
       "      <th>group</th>\n",
       "    </tr>\n",
       "  </thead>\n",
       "  <tbody>\n",
       "    <tr>\n",
       "      <th>0</th>\n",
       "      <td>MainScreenAppear</td>\n",
       "      <td>4575588528974610257</td>\n",
       "      <td>1564029816</td>\n",
       "      <td>246</td>\n",
       "    </tr>\n",
       "    <tr>\n",
       "      <th>1</th>\n",
       "      <td>MainScreenAppear</td>\n",
       "      <td>7416695313311560658</td>\n",
       "      <td>1564053102</td>\n",
       "      <td>246</td>\n",
       "    </tr>\n",
       "    <tr>\n",
       "      <th>2</th>\n",
       "      <td>PaymentScreenSuccessful</td>\n",
       "      <td>3518123091307005509</td>\n",
       "      <td>1564054127</td>\n",
       "      <td>248</td>\n",
       "    </tr>\n",
       "    <tr>\n",
       "      <th>3</th>\n",
       "      <td>CartScreenAppear</td>\n",
       "      <td>3518123091307005509</td>\n",
       "      <td>1564054127</td>\n",
       "      <td>248</td>\n",
       "    </tr>\n",
       "    <tr>\n",
       "      <th>4</th>\n",
       "      <td>PaymentScreenSuccessful</td>\n",
       "      <td>6217807653094995999</td>\n",
       "      <td>1564055322</td>\n",
       "      <td>248</td>\n",
       "    </tr>\n",
       "    <tr>\n",
       "      <th>...</th>\n",
       "      <td>...</td>\n",
       "      <td>...</td>\n",
       "      <td>...</td>\n",
       "      <td>...</td>\n",
       "    </tr>\n",
       "    <tr>\n",
       "      <th>244121</th>\n",
       "      <td>MainScreenAppear</td>\n",
       "      <td>4599628364049201812</td>\n",
       "      <td>1565212345</td>\n",
       "      <td>247</td>\n",
       "    </tr>\n",
       "    <tr>\n",
       "      <th>244122</th>\n",
       "      <td>MainScreenAppear</td>\n",
       "      <td>5849806612437486590</td>\n",
       "      <td>1565212439</td>\n",
       "      <td>246</td>\n",
       "    </tr>\n",
       "    <tr>\n",
       "      <th>244123</th>\n",
       "      <td>MainScreenAppear</td>\n",
       "      <td>5746969938801999050</td>\n",
       "      <td>1565212483</td>\n",
       "      <td>246</td>\n",
       "    </tr>\n",
       "    <tr>\n",
       "      <th>244124</th>\n",
       "      <td>MainScreenAppear</td>\n",
       "      <td>5746969938801999050</td>\n",
       "      <td>1565212498</td>\n",
       "      <td>246</td>\n",
       "    </tr>\n",
       "    <tr>\n",
       "      <th>244125</th>\n",
       "      <td>OffersScreenAppear</td>\n",
       "      <td>5746969938801999050</td>\n",
       "      <td>1565212517</td>\n",
       "      <td>246</td>\n",
       "    </tr>\n",
       "  </tbody>\n",
       "</table>\n",
       "<p>244126 rows × 4 columns</p>\n",
       "</div>"
      ],
      "text/plain": [
       "                          event              user_id  event_time  group\n",
       "0              MainScreenAppear  4575588528974610257  1564029816    246\n",
       "1              MainScreenAppear  7416695313311560658  1564053102    246\n",
       "2       PaymentScreenSuccessful  3518123091307005509  1564054127    248\n",
       "3              CartScreenAppear  3518123091307005509  1564054127    248\n",
       "4       PaymentScreenSuccessful  6217807653094995999  1564055322    248\n",
       "...                         ...                  ...         ...    ...\n",
       "244121         MainScreenAppear  4599628364049201812  1565212345    247\n",
       "244122         MainScreenAppear  5849806612437486590  1565212439    246\n",
       "244123         MainScreenAppear  5746969938801999050  1565212483    246\n",
       "244124         MainScreenAppear  5746969938801999050  1565212498    246\n",
       "244125       OffersScreenAppear  5746969938801999050  1565212517    246\n",
       "\n",
       "[244126 rows x 4 columns]"
      ]
     },
     "execution_count": 4,
     "metadata": {},
     "output_type": "execute_result"
    }
   ],
   "source": [
    "#корректировка названий столбцов\n",
    "logs.columns = map(str.lower, logs.columns)\n",
    "logs = logs.rename(columns={'eventname':'event', 'deviceidhash':'user_id', 'eventtimestamp':'event_time', 'expid':'group'})\n",
    "logs"
   ]
  },
  {
   "cell_type": "code",
   "execution_count": 5,
   "metadata": {},
   "outputs": [
    {
     "data": {
      "text/plain": [
       "event         0\n",
       "user_id       0\n",
       "event_time    0\n",
       "group         0\n",
       "dtype: int64"
      ]
     },
     "execution_count": 5,
     "metadata": {},
     "output_type": "execute_result"
    }
   ],
   "source": [
    "#проверка наличия пропусков\n",
    "logs.isna().sum()"
   ]
  },
  {
   "cell_type": "code",
   "execution_count": 6,
   "metadata": {},
   "outputs": [
    {
     "data": {
      "text/plain": [
       "413"
      ]
     },
     "execution_count": 6,
     "metadata": {},
     "output_type": "execute_result"
    }
   ],
   "source": [
    "#проверка наличия дубликатов\n",
    "logs.duplicated().sum()"
   ]
  },
  {
   "cell_type": "code",
   "execution_count": 7,
   "metadata": {},
   "outputs": [],
   "source": [
    "#удаление дубликатов\n",
    "logs = logs.drop_duplicates().reset_index(drop=True) "
   ]
  },
  {
   "cell_type": "code",
   "execution_count": 8,
   "metadata": {},
   "outputs": [
    {
     "name": "stdout",
     "output_type": "stream",
     "text": [
      "<class 'pandas.core.frame.DataFrame'>\n",
      "RangeIndex: 243713 entries, 0 to 243712\n",
      "Data columns (total 4 columns):\n",
      " #   Column      Non-Null Count   Dtype \n",
      "---  ------      --------------   ----- \n",
      " 0   event       243713 non-null  object\n",
      " 1   user_id     243713 non-null  int64 \n",
      " 2   event_time  243713 non-null  int64 \n",
      " 3   group       243713 non-null  int64 \n",
      "dtypes: int64(3), object(1)\n",
      "memory usage: 7.4+ MB\n"
     ]
    }
   ],
   "source": [
    "logs.info()"
   ]
  },
  {
   "cell_type": "code",
   "execution_count": 9,
   "metadata": {
    "scrolled": false
   },
   "outputs": [
    {
     "data": {
      "text/html": [
       "<div>\n",
       "<style scoped>\n",
       "    .dataframe tbody tr th:only-of-type {\n",
       "        vertical-align: middle;\n",
       "    }\n",
       "\n",
       "    .dataframe tbody tr th {\n",
       "        vertical-align: top;\n",
       "    }\n",
       "\n",
       "    .dataframe thead th {\n",
       "        text-align: right;\n",
       "    }\n",
       "</style>\n",
       "<table border=\"1\" class=\"dataframe\">\n",
       "  <thead>\n",
       "    <tr style=\"text-align: right;\">\n",
       "      <th></th>\n",
       "      <th>event</th>\n",
       "      <th>user_id</th>\n",
       "      <th>event_time</th>\n",
       "      <th>group</th>\n",
       "      <th>date</th>\n",
       "    </tr>\n",
       "  </thead>\n",
       "  <tbody>\n",
       "    <tr>\n",
       "      <th>0</th>\n",
       "      <td>MainScreenAppear</td>\n",
       "      <td>4575588528974610257</td>\n",
       "      <td>2019-07-25 04:43:36</td>\n",
       "      <td>246</td>\n",
       "      <td>2019-07-25</td>\n",
       "    </tr>\n",
       "    <tr>\n",
       "      <th>1</th>\n",
       "      <td>MainScreenAppear</td>\n",
       "      <td>7416695313311560658</td>\n",
       "      <td>2019-07-25 11:11:42</td>\n",
       "      <td>246</td>\n",
       "      <td>2019-07-25</td>\n",
       "    </tr>\n",
       "    <tr>\n",
       "      <th>2</th>\n",
       "      <td>PaymentScreenSuccessful</td>\n",
       "      <td>3518123091307005509</td>\n",
       "      <td>2019-07-25 11:28:47</td>\n",
       "      <td>248</td>\n",
       "      <td>2019-07-25</td>\n",
       "    </tr>\n",
       "    <tr>\n",
       "      <th>3</th>\n",
       "      <td>CartScreenAppear</td>\n",
       "      <td>3518123091307005509</td>\n",
       "      <td>2019-07-25 11:28:47</td>\n",
       "      <td>248</td>\n",
       "      <td>2019-07-25</td>\n",
       "    </tr>\n",
       "    <tr>\n",
       "      <th>4</th>\n",
       "      <td>PaymentScreenSuccessful</td>\n",
       "      <td>6217807653094995999</td>\n",
       "      <td>2019-07-25 11:48:42</td>\n",
       "      <td>248</td>\n",
       "      <td>2019-07-25</td>\n",
       "    </tr>\n",
       "    <tr>\n",
       "      <th>...</th>\n",
       "      <td>...</td>\n",
       "      <td>...</td>\n",
       "      <td>...</td>\n",
       "      <td>...</td>\n",
       "      <td>...</td>\n",
       "    </tr>\n",
       "    <tr>\n",
       "      <th>243708</th>\n",
       "      <td>MainScreenAppear</td>\n",
       "      <td>4599628364049201812</td>\n",
       "      <td>2019-08-07 21:12:25</td>\n",
       "      <td>247</td>\n",
       "      <td>2019-08-07</td>\n",
       "    </tr>\n",
       "    <tr>\n",
       "      <th>243709</th>\n",
       "      <td>MainScreenAppear</td>\n",
       "      <td>5849806612437486590</td>\n",
       "      <td>2019-08-07 21:13:59</td>\n",
       "      <td>246</td>\n",
       "      <td>2019-08-07</td>\n",
       "    </tr>\n",
       "    <tr>\n",
       "      <th>243710</th>\n",
       "      <td>MainScreenAppear</td>\n",
       "      <td>5746969938801999050</td>\n",
       "      <td>2019-08-07 21:14:43</td>\n",
       "      <td>246</td>\n",
       "      <td>2019-08-07</td>\n",
       "    </tr>\n",
       "    <tr>\n",
       "      <th>243711</th>\n",
       "      <td>MainScreenAppear</td>\n",
       "      <td>5746969938801999050</td>\n",
       "      <td>2019-08-07 21:14:58</td>\n",
       "      <td>246</td>\n",
       "      <td>2019-08-07</td>\n",
       "    </tr>\n",
       "    <tr>\n",
       "      <th>243712</th>\n",
       "      <td>OffersScreenAppear</td>\n",
       "      <td>5746969938801999050</td>\n",
       "      <td>2019-08-07 21:15:17</td>\n",
       "      <td>246</td>\n",
       "      <td>2019-08-07</td>\n",
       "    </tr>\n",
       "  </tbody>\n",
       "</table>\n",
       "<p>243713 rows × 5 columns</p>\n",
       "</div>"
      ],
      "text/plain": [
       "                          event              user_id          event_time  \\\n",
       "0              MainScreenAppear  4575588528974610257 2019-07-25 04:43:36   \n",
       "1              MainScreenAppear  7416695313311560658 2019-07-25 11:11:42   \n",
       "2       PaymentScreenSuccessful  3518123091307005509 2019-07-25 11:28:47   \n",
       "3              CartScreenAppear  3518123091307005509 2019-07-25 11:28:47   \n",
       "4       PaymentScreenSuccessful  6217807653094995999 2019-07-25 11:48:42   \n",
       "...                         ...                  ...                 ...   \n",
       "243708         MainScreenAppear  4599628364049201812 2019-08-07 21:12:25   \n",
       "243709         MainScreenAppear  5849806612437486590 2019-08-07 21:13:59   \n",
       "243710         MainScreenAppear  5746969938801999050 2019-08-07 21:14:43   \n",
       "243711         MainScreenAppear  5746969938801999050 2019-08-07 21:14:58   \n",
       "243712       OffersScreenAppear  5746969938801999050 2019-08-07 21:15:17   \n",
       "\n",
       "        group       date  \n",
       "0         246 2019-07-25  \n",
       "1         246 2019-07-25  \n",
       "2         248 2019-07-25  \n",
       "3         248 2019-07-25  \n",
       "4         248 2019-07-25  \n",
       "...       ...        ...  \n",
       "243708    247 2019-08-07  \n",
       "243709    246 2019-08-07  \n",
       "243710    246 2019-08-07  \n",
       "243711    246 2019-08-07  \n",
       "243712    246 2019-08-07  \n",
       "\n",
       "[243713 rows x 5 columns]"
      ]
     },
     "execution_count": 9,
     "metadata": {},
     "output_type": "execute_result"
    }
   ],
   "source": [
    "# замена типа данных `datetime`: \n",
    "\n",
    "logs['event_time'] = pd.to_datetime(logs['event_time'], unit='s')\n",
    "\n",
    "# добавление поля с датой:\n",
    "\n",
    "logs['date'] = pd.to_datetime(logs['event_time'].dt.date)\n",
    "logs"
   ]
  },
  {
   "cell_type": "code",
   "execution_count": 10,
   "metadata": {},
   "outputs": [
    {
     "name": "stdout",
     "output_type": "stream",
     "text": [
      "Нет уникальных пользователей, попавших в разные группы\n"
     ]
    }
   ],
   "source": [
    "duplicate_users = logs.groupby('user_id')['group'].nunique().loc[lambda x: x > 1]\n",
    "\n",
    "if len(duplicate_users) == 0:\n",
    "    result = 'Нет уникальных пользователей, попавших в разные группы'\n",
    "else:\n",
    "    result = 'Обнаружены уникальные пользователи, попавшие в разные группы'\n",
    "print(result)\n"
   ]
  },
  {
   "cell_type": "markdown",
   "metadata": {},
   "source": [
    "<div>\n",
    "    <h2> 2. Изучение и проверка данных <a class=\"tocSkip\"> </h2>"
   ]
  },
  {
   "cell_type": "markdown",
   "metadata": {},
   "source": [
    "Ответим на следующие вопросы:\n",
    "\n",
    "    - Сколько всего событий в логе?\n",
    "    - Сколько всего пользователей в логе?\n",
    "    - Сколько в среднем событий приходится на пользователя?\n"
   ]
  },
  {
   "cell_type": "code",
   "execution_count": 11,
   "metadata": {},
   "outputs": [
    {
     "name": "stdout",
     "output_type": "stream",
     "text": [
      "Всего событий в логе: 243713\n",
      "Всего пользователей в логе: 7551\n",
      "В среднем событий приходится на пользователя: 32\n"
     ]
    }
   ],
   "source": [
    "print('Всего событий в логе:', logs.shape[0])\n",
    "print('Всего пользователей в логе:', logs['user_id'].nunique())\n",
    "print('В среднем событий приходится на пользователя:', round(logs.shape[0]/logs['user_id'].nunique()))"
   ]
  },
  {
   "cell_type": "code",
   "execution_count": 12,
   "metadata": {},
   "outputs": [
    {
     "name": "stdout",
     "output_type": "stream",
     "text": [
      "Максимальная дата: 2019-08-07 00:00:00\n",
      "Минимальная дата: 2019-07-25 00:00:00\n"
     ]
    }
   ],
   "source": [
    "#найдем максимальную и минимальную дату\n",
    "print('Максимальная дата:', logs['date'].max())\n",
    "print('Минимальная дата:', logs['date'].min())"
   ]
  },
  {
   "cell_type": "code",
   "execution_count": 13,
   "metadata": {
    "scrolled": false
   },
   "outputs": [
    {
     "data": {
      "image/png": "[encoded data removed]",
      "text/plain": [
       "<Figure size 1080x360 with 1 Axes>"
      ]
     },
     "metadata": {
      "needs_background": "light"
     },
     "output_type": "display_data"
    }
   ],
   "source": [
    "#Построим гистограмму по дате и времени\n",
    "plt.title('Распределение логов по дате и времени')\n",
    "logs['event_time'].hist(bins=100,  figsize=(15, 5), alpha=0.6)\n",
    "plt.ylabel(\"Количестов логов\")\n",
    "plt.xlabel(\"Дата\")\n",
    "plt.xticks(rotation=30)\n",
    "plt.show()"
   ]
  },
  {
   "cell_type": "markdown",
   "metadata": {},
   "source": [
    "На гистограмме видим, что за июль сведения не полные. Лучше брать отрезок времения с 2019-08-01 по 2019-08-07"
   ]
  },
  {
   "cell_type": "code",
   "execution_count": 14,
   "metadata": {},
   "outputs": [
    {
     "name": "stdout",
     "output_type": "stream",
     "text": [
      "Утеряно событий: 2826 (1.2%)\n",
      "Утеряно пользователей: 17 (0.2%)\n"
     ]
    }
   ],
   "source": [
    "# Проверим, сколько логов и пользователей потеряли, отбросив данные за июль\n",
    "data = logs[logs['event_time'] >= '2019-08-01']\n",
    "data\n",
    "print('Утеряно событий:', logs.shape[0] - data.shape[0], \n",
    "      '({:.1%})'.format((logs.shape[0] - data.shape[0])/data.shape[0]))\n",
    "\n",
    "print('Утеряно пользователей:', logs['user_id'].nunique() - data['user_id'].nunique(), \n",
    "      '({:.1%})'.format((logs['user_id'].nunique() - data['user_id'].nunique())/logs['user_id'].nunique()))\n"
   ]
  },
  {
   "cell_type": "code",
   "execution_count": 15,
   "metadata": {},
   "outputs": [
    {
     "data": {
      "text/html": [
       "<div>\n",
       "<style scoped>\n",
       "    .dataframe tbody tr th:only-of-type {\n",
       "        vertical-align: middle;\n",
       "    }\n",
       "\n",
       "    .dataframe tbody tr th {\n",
       "        vertical-align: top;\n",
       "    }\n",
       "\n",
       "    .dataframe thead th {\n",
       "        text-align: right;\n",
       "    }\n",
       "</style>\n",
       "<table border=\"1\" class=\"dataframe\">\n",
       "  <thead>\n",
       "    <tr style=\"text-align: right;\">\n",
       "      <th></th>\n",
       "      <th>user_id</th>\n",
       "      <th>group</th>\n",
       "    </tr>\n",
       "    <tr>\n",
       "      <th>group</th>\n",
       "      <th></th>\n",
       "      <th></th>\n",
       "    </tr>\n",
       "  </thead>\n",
       "  <tbody>\n",
       "    <tr>\n",
       "      <th>246</th>\n",
       "      <td>2484</td>\n",
       "      <td>79302</td>\n",
       "    </tr>\n",
       "    <tr>\n",
       "      <th>247</th>\n",
       "      <td>2513</td>\n",
       "      <td>77022</td>\n",
       "    </tr>\n",
       "    <tr>\n",
       "      <th>248</th>\n",
       "      <td>2537</td>\n",
       "      <td>84563</td>\n",
       "    </tr>\n",
       "  </tbody>\n",
       "</table>\n",
       "</div>"
      ],
      "text/plain": [
       "       user_id  group\n",
       "group                \n",
       "246       2484  79302\n",
       "247       2513  77022\n",
       "248       2537  84563"
      ]
     },
     "execution_count": 15,
     "metadata": {},
     "output_type": "execute_result"
    }
   ],
   "source": [
    "# Проверим, есть ли пользователи из всех трёх экспериментальных групп и их количество\n",
    "data.groupby('group').agg({'user_id': 'nunique', 'group': 'count'})"
   ]
  },
  {
   "cell_type": "markdown",
   "metadata": {},
   "source": [
    "количество уникальных пользователей и количество событий в группах +- одинаковые. группа 248 самая большая по 2м показателям"
   ]
  },
  {
   "cell_type": "markdown",
   "metadata": {},
   "source": [
    "<div>\n",
    "    <h2> 3. Изучение воронки событий <a class=\"tocSkip\"> </h2>"
   ]
  },
  {
   "cell_type": "code",
   "execution_count": 16,
   "metadata": {},
   "outputs": [
    {
     "data": {
      "text/html": [
       "<div>\n",
       "<style scoped>\n",
       "    .dataframe tbody tr th:only-of-type {\n",
       "        vertical-align: middle;\n",
       "    }\n",
       "\n",
       "    .dataframe tbody tr th {\n",
       "        vertical-align: top;\n",
       "    }\n",
       "\n",
       "    .dataframe thead th {\n",
       "        text-align: right;\n",
       "    }\n",
       "</style>\n",
       "<table border=\"1\" class=\"dataframe\">\n",
       "  <thead>\n",
       "    <tr style=\"text-align: right;\">\n",
       "      <th></th>\n",
       "      <th>total_events</th>\n",
       "    </tr>\n",
       "    <tr>\n",
       "      <th>event</th>\n",
       "      <th></th>\n",
       "    </tr>\n",
       "  </thead>\n",
       "  <tbody>\n",
       "    <tr>\n",
       "      <th>MainScreenAppear</th>\n",
       "      <td>117328</td>\n",
       "    </tr>\n",
       "    <tr>\n",
       "      <th>OffersScreenAppear</th>\n",
       "      <td>46333</td>\n",
       "    </tr>\n",
       "    <tr>\n",
       "      <th>CartScreenAppear</th>\n",
       "      <td>42303</td>\n",
       "    </tr>\n",
       "    <tr>\n",
       "      <th>PaymentScreenSuccessful</th>\n",
       "      <td>33918</td>\n",
       "    </tr>\n",
       "    <tr>\n",
       "      <th>Tutorial</th>\n",
       "      <td>1005</td>\n",
       "    </tr>\n",
       "  </tbody>\n",
       "</table>\n",
       "</div>"
      ],
      "text/plain": [
       "                         total_events\n",
       "event                                \n",
       "MainScreenAppear               117328\n",
       "OffersScreenAppear              46333\n",
       "CartScreenAppear                42303\n",
       "PaymentScreenSuccessful         33918\n",
       "Tutorial                         1005"
      ]
     },
     "execution_count": 16,
     "metadata": {},
     "output_type": "execute_result"
    }
   ],
   "source": [
    "# Посмотрим, какие события есть в логах, как часто они встречаются. Отсортируем события по частоте\n",
    "events = (data.groupby('event')\n",
    "          .agg({'user_id': 'count'})\n",
    "          .rename(columns={'user_id' : 'total_events'})\n",
    "          .sort_values(by='total_events', ascending=False))\n",
    "events\n"
   ]
  },
  {
   "cell_type": "code",
   "execution_count": 17,
   "metadata": {},
   "outputs": [],
   "source": [
    "#Посчитаем, сколько пользователей совершали каждое из этих событий. Отсортируем события по числу пользователей. \n",
    "users = (data.groupby('event')\n",
    "         .agg({'user_id': 'nunique'})\n",
    "         .rename(columns={'user_id' : 'total_users'})\n",
    "         .sort_values(by='total_users', ascending=False))"
   ]
  },
  {
   "cell_type": "code",
   "execution_count": 18,
   "metadata": {},
   "outputs": [
    {
     "data": {
      "text/html": [
       "<div>\n",
       "<style scoped>\n",
       "    .dataframe tbody tr th:only-of-type {\n",
       "        vertical-align: middle;\n",
       "    }\n",
       "\n",
       "    .dataframe tbody tr th {\n",
       "        vertical-align: top;\n",
       "    }\n",
       "\n",
       "    .dataframe thead th {\n",
       "        text-align: right;\n",
       "    }\n",
       "</style>\n",
       "<table border=\"1\" class=\"dataframe\">\n",
       "  <thead>\n",
       "    <tr style=\"text-align: right;\">\n",
       "      <th></th>\n",
       "      <th>total_users</th>\n",
       "      <th>persent</th>\n",
       "    </tr>\n",
       "    <tr>\n",
       "      <th>event</th>\n",
       "      <th></th>\n",
       "      <th></th>\n",
       "    </tr>\n",
       "  </thead>\n",
       "  <tbody>\n",
       "    <tr>\n",
       "      <th>MainScreenAppear</th>\n",
       "      <td>7419</td>\n",
       "      <td>98.47</td>\n",
       "    </tr>\n",
       "    <tr>\n",
       "      <th>OffersScreenAppear</th>\n",
       "      <td>4593</td>\n",
       "      <td>60.96</td>\n",
       "    </tr>\n",
       "    <tr>\n",
       "      <th>CartScreenAppear</th>\n",
       "      <td>3734</td>\n",
       "      <td>49.56</td>\n",
       "    </tr>\n",
       "    <tr>\n",
       "      <th>PaymentScreenSuccessful</th>\n",
       "      <td>3539</td>\n",
       "      <td>46.97</td>\n",
       "    </tr>\n",
       "    <tr>\n",
       "      <th>Tutorial</th>\n",
       "      <td>840</td>\n",
       "      <td>11.15</td>\n",
       "    </tr>\n",
       "  </tbody>\n",
       "</table>\n",
       "</div>"
      ],
      "text/plain": [
       "                         total_users  persent\n",
       "event                                        \n",
       "MainScreenAppear                7419    98.47\n",
       "OffersScreenAppear              4593    60.96\n",
       "CartScreenAppear                3734    49.56\n",
       "PaymentScreenSuccessful         3539    46.97\n",
       "Tutorial                         840    11.15"
      ]
     },
     "execution_count": 18,
     "metadata": {},
     "output_type": "execute_result"
    }
   ],
   "source": [
    "#Посчитаем долю пользователей, которые хоть раз совершали событие\n",
    "users['persent'] = round(users['total_users'] / data['user_id'].nunique() * 100, 2)\n",
    "users"
   ]
  },
  {
   "cell_type": "markdown",
   "metadata": {},
   "source": [
    "Все события выстраиваются в последовательную цепочку, кроме события Tutorial. Его можно исключить из воронки событий, т.к. для того чтобы купить что-то не обязательно смотреть урок. \n",
    "Таким образом получается последовательность:\n",
    "\n",
    "    - Главный экран\n",
    "    - Каталог\n",
    "    - Карточка товара\n",
    "    - Оплата товара"
   ]
  },
  {
   "cell_type": "code",
   "execution_count": 19,
   "metadata": {
    "scrolled": false
   },
   "outputs": [
    {
     "name": "stdout",
     "output_type": "stream",
     "text": [
      "OffersScreenAppear в % от предыдущего шага: 61.91%\n",
      "CartScreenAppear в % от предыдущего шага: 81.30%\n",
      "PaymentScreenSuccessful в % от предыдущего шага: 94.78%\n"
     ]
    }
   ],
   "source": [
    "# Создание сводной таблицы\n",
    "users_pivot = data.pivot_table(index='user_id', columns='event', values='event_time', aggfunc='min')\n",
    "\n",
    "# Список событий в правильной последовательности\n",
    "events = ['MainScreenAppear', 'OffersScreenAppear', 'CartScreenAppear', 'PaymentScreenSuccessful']\n",
    "\n",
    "# Вычисление метрик в процентах от предыдущего шага с использованием цикла\n",
    "\n",
    "for i in range(1, len(events)):\n",
    "    event_count = users_pivot[events[i]].count()\n",
    "    previous_event_count = users_pivot[events[i-1]].count()\n",
    "    conversion_rate = event_count / previous_event_count\n",
    "    print(f'{events[i]} в % от предыдущего шага: {conversion_rate:.2%}')"
   ]
  },
  {
   "cell_type": "markdown",
   "metadata": {},
   "source": [
    "Наибольшее количество пользователей теряется после первого шага, а именно 38,1%, а доля пользователей доходящих от 1го события до оплаты составила 47,71%"
   ]
  },
  {
   "cell_type": "markdown",
   "metadata": {},
   "source": [
    "<div>\n",
    "    <h2> 4. Изучение результатов эксперимента <a class=\"tocSkip\"> </h2>"
   ]
  },
  {
   "cell_type": "code",
   "execution_count": 20,
   "metadata": {},
   "outputs": [
    {
     "data": {
      "text/html": [
       "<div>\n",
       "<style scoped>\n",
       "    .dataframe tbody tr th:only-of-type {\n",
       "        vertical-align: middle;\n",
       "    }\n",
       "\n",
       "    .dataframe tbody tr th {\n",
       "        vertical-align: top;\n",
       "    }\n",
       "\n",
       "    .dataframe thead th {\n",
       "        text-align: right;\n",
       "    }\n",
       "</style>\n",
       "<table border=\"1\" class=\"dataframe\">\n",
       "  <thead>\n",
       "    <tr style=\"text-align: right;\">\n",
       "      <th></th>\n",
       "      <th>count</th>\n",
       "    </tr>\n",
       "    <tr>\n",
       "      <th>group</th>\n",
       "      <th></th>\n",
       "    </tr>\n",
       "  </thead>\n",
       "  <tbody>\n",
       "    <tr>\n",
       "      <th>246</th>\n",
       "      <td>2484</td>\n",
       "    </tr>\n",
       "    <tr>\n",
       "      <th>247</th>\n",
       "      <td>2513</td>\n",
       "    </tr>\n",
       "    <tr>\n",
       "      <th>248</th>\n",
       "      <td>2537</td>\n",
       "    </tr>\n",
       "  </tbody>\n",
       "</table>\n",
       "</div>"
      ],
      "text/plain": [
       "       count\n",
       "group       \n",
       "246     2484\n",
       "247     2513\n",
       "248     2537"
      ]
     },
     "execution_count": 20,
     "metadata": {},
     "output_type": "execute_result"
    }
   ],
   "source": [
    "#Определим количество уникальных пользователей в каждой группе\n",
    "data.groupby('group').agg(count=('user_id', 'nunique'))"
   ]
  },
  {
   "cell_type": "code",
   "execution_count": 21,
   "metadata": {},
   "outputs": [
    {
     "data": {
      "text/html": [
       "<div>\n",
       "<style scoped>\n",
       "    .dataframe tbody tr th:only-of-type {\n",
       "        vertical-align: middle;\n",
       "    }\n",
       "\n",
       "    .dataframe tbody tr th {\n",
       "        vertical-align: top;\n",
       "    }\n",
       "\n",
       "    .dataframe thead th {\n",
       "        text-align: right;\n",
       "    }\n",
       "</style>\n",
       "<table border=\"1\" class=\"dataframe\">\n",
       "  <thead>\n",
       "    <tr style=\"text-align: right;\">\n",
       "      <th>group</th>\n",
       "      <th>event</th>\n",
       "      <th>246</th>\n",
       "      <th>247</th>\n",
       "      <th>248</th>\n",
       "      <th>All</th>\n",
       "    </tr>\n",
       "  </thead>\n",
       "  <tbody>\n",
       "    <tr>\n",
       "      <th>0</th>\n",
       "      <td>All</td>\n",
       "      <td>2484</td>\n",
       "      <td>2513</td>\n",
       "      <td>2537</td>\n",
       "      <td>7534</td>\n",
       "    </tr>\n",
       "    <tr>\n",
       "      <th>1</th>\n",
       "      <td>MainScreenAppear</td>\n",
       "      <td>2450</td>\n",
       "      <td>2476</td>\n",
       "      <td>2493</td>\n",
       "      <td>7419</td>\n",
       "    </tr>\n",
       "    <tr>\n",
       "      <th>2</th>\n",
       "      <td>OffersScreenAppear</td>\n",
       "      <td>1542</td>\n",
       "      <td>1520</td>\n",
       "      <td>1531</td>\n",
       "      <td>4593</td>\n",
       "    </tr>\n",
       "    <tr>\n",
       "      <th>3</th>\n",
       "      <td>CartScreenAppear</td>\n",
       "      <td>1266</td>\n",
       "      <td>1238</td>\n",
       "      <td>1230</td>\n",
       "      <td>3734</td>\n",
       "    </tr>\n",
       "    <tr>\n",
       "      <th>4</th>\n",
       "      <td>PaymentScreenSuccessful</td>\n",
       "      <td>1200</td>\n",
       "      <td>1158</td>\n",
       "      <td>1181</td>\n",
       "      <td>3539</td>\n",
       "    </tr>\n",
       "  </tbody>\n",
       "</table>\n",
       "</div>"
      ],
      "text/plain": [
       "group                    event   246   247   248   All\n",
       "0                          All  2484  2513  2537  7534\n",
       "1             MainScreenAppear  2450  2476  2493  7419\n",
       "2           OffersScreenAppear  1542  1520  1531  4593\n",
       "3             CartScreenAppear  1266  1238  1230  3734\n",
       "4      PaymentScreenSuccessful  1200  1158  1181  3539"
      ]
     },
     "execution_count": 21,
     "metadata": {},
     "output_type": "execute_result"
    }
   ],
   "source": [
    "#создадим рейтинг событий и разобьем их по группам\n",
    "most_popular_event = (data.pivot_table(index='event', \n",
    "                                      columns='group', \n",
    "                                      values='user_id', \n",
    "                                      aggfunc='nunique', \n",
    "                                      margins=True).reset_index()\n",
    "                      .sort_values('All', ascending=False)\n",
    "                      .reset_index(drop=True))\n",
    "                      \n",
    "most_popular_event = most_popular_event.query('event != \"Tutorial\"').reindex().reset_index(drop=True)\n",
    "most_popular_event"
   ]
  },
  {
   "cell_type": "markdown",
   "metadata": {},
   "source": [
    "Во всех группах количество событий практически одинаково. различия между ними незначительны"
   ]
  },
  {
   "cell_type": "markdown",
   "metadata": {},
   "source": [
    "<div class=\"alert alert\" style=\"border-radius: 10px; box-shadow: 2px 2px 2px; border: 1px solid; padding: 10px \"> \n",
    "<b>Есть 2 контрольные группы для А/А-эксперимента, чтобы проверить корректность всех механизмов и расчётов. Проверим, находят ли статистические критерии разницу между выборками 246 и 247: </b>\n"
   ]
  },
  {
   "cell_type": "markdown",
   "metadata": {},
   "source": [
    "Я сделала 2 функции, с функцией test_1 намудрила, но хотелось бы узнать мнение ревьювера на счет ее жизнеспособности :)"
   ]
  },
  {
   "cell_type": "markdown",
   "metadata": {},
   "source": [
    "<div class=\"alert alert\" style=\"border-radius: 10px; box-shadow: 2px 2px 2px; border: 1px solid; padding: 10px \"> \n",
    "<b> Для того, чтобы сопоставить доли по каждому событию выведем основную и альтернативную гипотезы:\n",
    "    \n",
    "    - Н0: между долями уникальных пользователей нет статистической разницы;\n",
    "    - Н1: между долями уникальных пользователей есть статистическая разница.\n"
   ]
  },
  {
   "cell_type": "code",
   "execution_count": 22,
   "metadata": {},
   "outputs": [],
   "source": [
    "def test(data_1, data_2, event):\n",
    "    \n",
    "    # критический уровень статистической значимости\n",
    "    alpha = .05\n",
    " \n",
    "    # число пользователей в группе 1 и группе 2:\n",
    "    c_users = np.array([data_1['user_id'].nunique(), \n",
    "                        data_2['user_id'].nunique()])\n",
    "\n",
    "    # число пользователей, совершивших событие в группе 1 и группе 2\n",
    "    success = np.array([data_1[data_1['event'] == event]['user_id'].nunique(), \n",
    "                        data_2[data_2['event'] == event]['user_id'].nunique()])\n",
    "\n",
    "    # пропорции успехов в группах:\n",
    "    p1 = success[0]/c_users[0]\n",
    "    p2 = success[1]/c_users[1]\n",
    "    \n",
    "    # пропорция успехов в комбинированном датасете:\n",
    "    p_combined = (success[0] + success[1]) / (c_users[0] + c_users[1])\n",
    "\n",
    "    # разница пропорций в датасетах\n",
    "    difference = p1 - p2 \n",
    "\n",
    "    # считаем статистику в ст.отклонениях стандартного нормального распределения\n",
    "    z_value = difference /  mth.sqrt(p_combined * (1 - p_combined) * (1/c_users[0] + 1/c_users[1]))\n",
    "\n",
    "    # задаем стандартное нормальное распределение (среднее 0, ст.отклонение 1)\n",
    "    distr = stats.norm(0, 1)  \n",
    "\n",
    "    p_value = (1 - distr.cdf(abs(z_value))) * 2   #тест двусторонний, удваиваем результат\n",
    "    \n",
    "    print('Событие:', event)\n",
    "    print('p_value: ', round(p_value, 2))\n",
    "\n",
    "    if p_value < alpha:\n",
    "        print('Отвергаем нулевую гипотезу: между долями есть разница')\n",
    "    else:\n",
    "        print(\n",
    "        'Не получилось отвергнуть нулевую гипотезу, нет оснований считать доли разными')"
   ]
  },
  {
   "cell_type": "code",
   "execution_count": 23,
   "metadata": {},
   "outputs": [
    {
     "name": "stdout",
     "output_type": "stream",
     "text": [
      "Событие: Tutorial\n",
      "p_value:  0.94\n",
      "Не получилось отвергнуть нулевую гипотезу, нет оснований считать доли разными\n",
      "\n",
      "Событие: MainScreenAppear\n",
      "p_value:  0.76\n",
      "Не получилось отвергнуть нулевую гипотезу, нет оснований считать доли разными\n",
      "\n",
      "Событие: OffersScreenAppear\n",
      "p_value:  0.25\n",
      "Не получилось отвергнуть нулевую гипотезу, нет оснований считать доли разными\n",
      "\n",
      "Событие: CartScreenAppear\n",
      "p_value:  0.23\n",
      "Не получилось отвергнуть нулевую гипотезу, нет оснований считать доли разными\n",
      "\n",
      "Событие: PaymentScreenSuccessful\n",
      "p_value:  0.11\n",
      "Не получилось отвергнуть нулевую гипотезу, нет оснований считать доли разными\n",
      "\n"
     ]
    }
   ],
   "source": [
    "# проверим, есть ли статистически значимая разница между контрольными группами 246 и 247:\n",
    "for event in data['event'].unique():\n",
    "    test(data[data['group'] == 246], data[data['group'] == 247], event)\n",
    "    print()"
   ]
  },
  {
   "cell_type": "markdown",
   "metadata": {},
   "source": [
    "- Между группами 246 и 247 не найдена статистическая разница"
   ]
  },
  {
   "cell_type": "code",
   "execution_count": 24,
   "metadata": {},
   "outputs": [
    {
     "name": "stdout",
     "output_type": "stream",
     "text": [
      "Событие: Tutorial\n",
      "p_value:  0.83\n",
      "Не получилось отвергнуть нулевую гипотезу, нет оснований считать доли разными\n",
      "\n",
      "Событие: MainScreenAppear\n",
      "p_value:  0.29\n",
      "Не получилось отвергнуть нулевую гипотезу, нет оснований считать доли разными\n",
      "\n",
      "Событие: OffersScreenAppear\n",
      "p_value:  0.21\n",
      "Не получилось отвергнуть нулевую гипотезу, нет оснований считать доли разными\n",
      "\n",
      "Событие: CartScreenAppear\n",
      "p_value:  0.08\n",
      "Не получилось отвергнуть нулевую гипотезу, нет оснований считать доли разными\n",
      "\n",
      "Событие: PaymentScreenSuccessful\n",
      "p_value:  0.21\n",
      "Не получилось отвергнуть нулевую гипотезу, нет оснований считать доли разными\n",
      "\n"
     ]
    }
   ],
   "source": [
    "# проверим, есть ли статистически значимая разница между контрольными группами 246 и 248:\n",
    "\n",
    "for event in data['event'].unique():\n",
    "    test(data[data['group'] == 246], data[data['group'] == 248], event)\n",
    "    print()"
   ]
  },
  {
   "cell_type": "markdown",
   "metadata": {},
   "source": [
    "- Между группами 246 и 248 не найдена статистическая разница"
   ]
  },
  {
   "cell_type": "code",
   "execution_count": 25,
   "metadata": {},
   "outputs": [
    {
     "name": "stdout",
     "output_type": "stream",
     "text": [
      "Событие: Tutorial\n",
      "p_value:  0.77\n",
      "Не получилось отвергнуть нулевую гипотезу, нет оснований считать доли разными\n",
      "\n",
      "Событие: MainScreenAppear\n",
      "p_value:  0.46\n",
      "Не получилось отвергнуть нулевую гипотезу, нет оснований считать доли разными\n",
      "\n",
      "Событие: OffersScreenAppear\n",
      "p_value:  0.92\n",
      "Не получилось отвергнуть нулевую гипотезу, нет оснований считать доли разными\n",
      "\n",
      "Событие: CartScreenAppear\n",
      "p_value:  0.58\n",
      "Не получилось отвергнуть нулевую гипотезу, нет оснований считать доли разными\n",
      "\n",
      "Событие: PaymentScreenSuccessful\n",
      "p_value:  0.74\n",
      "Не получилось отвергнуть нулевую гипотезу, нет оснований считать доли разными\n",
      "\n"
     ]
    }
   ],
   "source": [
    "# проверим, есть ли статистически значимая разница между контрольными группами 247 и 248:\n",
    "\n",
    "for event in data['event'].unique():\n",
    "    test(data[data['group'] == 247], data[data['group'] == 248], event)\n",
    "    print()"
   ]
  },
  {
   "cell_type": "markdown",
   "metadata": {},
   "source": [
    "- Между группами 247 и 248 не найдена статистическая разница"
   ]
  },
  {
   "cell_type": "code",
   "execution_count": 26,
   "metadata": {
    "scrolled": true
   },
   "outputs": [
    {
     "name": "stdout",
     "output_type": "stream",
     "text": [
      "Событие: Tutorial\n",
      "p_value:  0.76\n",
      "Не получилось отвергнуть нулевую гипотезу, нет оснований считать доли разными\n",
      "\n",
      "Событие: MainScreenAppear\n",
      "p_value:  0.29\n",
      "Не получилось отвергнуть нулевую гипотезу, нет оснований считать доли разными\n",
      "\n",
      "Событие: OffersScreenAppear\n",
      "p_value:  0.43\n",
      "Не получилось отвергнуть нулевую гипотезу, нет оснований считать доли разными\n",
      "\n",
      "Событие: CartScreenAppear\n",
      "p_value:  0.18\n",
      "Не получилось отвергнуть нулевую гипотезу, нет оснований считать доли разными\n",
      "\n",
      "Событие: PaymentScreenSuccessful\n",
      "p_value:  0.6\n",
      "Не получилось отвергнуть нулевую гипотезу, нет оснований считать доли разными\n",
      "\n"
     ]
    }
   ],
   "source": [
    "# проверим есть ли статистически значимая разница между объединённой контрольной и экпериментальной 248 группами:\n",
    "\n",
    "for event in data['event'].unique():\n",
    "    test(data[data['group'] != 248], data[data['group'] == 248], event)\n",
    "    print()"
   ]
  },
  {
   "cell_type": "markdown",
   "metadata": {},
   "source": [
    "- Между группами 246+247 и 248 не найдена статистическая разница"
   ]
  },
  {
   "cell_type": "markdown",
   "metadata": {},
   "source": [
    "<div>\n",
    "    <h2> 5. Вывод <a class=\"tocSkip\"> </h2>"
   ]
  },
  {
   "cell_type": "markdown",
   "metadata": {},
   "source": [
    "В процессе исследования:\n",
    "\n",
    "    - произведена предобработка данных;\n",
    "    - определен интервал времени исследования: от 2019-08-01 по 2019-08-07;\n",
    "    - составлена и изучена воронка событий из которой был исключен шаг \"обучение\", т.к. он не обязателен для прохождения и не влияет на остальные шаги;\n",
    "    - выявлено, что наибольшее количество пользователей теряется после первого шага, а именно 38,1% (возможно, на этом этапе есть какая-то техническа проблема), а доля пользователей доходящих от 1го события до оплаты составила 47,71%. Так же не 100% пользователей попадали сразу на главную страницу, а возможно переходили по внешним ссылкам на каталог;\n",
    "   \n",
    "В эксперименте были учтено поведение пользователей, разделенных на три группы:\n",
    "\t\n",
    "- 246 группа - 2484 пользователей\n",
    "- 247 группа - 2513 пользователей\n",
    "- 248 группа - 2537 пользователей\n",
    "\n",
    "Согласно предложенному процессу, нам нужно было сопоставить доли пользователей по каждому событию между:\n",
    "\n",
    "- контрольными группами;\n",
    "- каждой из контрольной группы по отдельности и экспериментальной;\n",
    "- объединенной контрольной группой и экспериментальной.\n",
    "\n",
    "Проведенные по каждому событию тесты не обнаружили статистически значимой разницы между группами, в связи с чем можно сделать вывод о том, что изменение шрифтов во всём приложении на поведение пользователей не повлияет."
   ]
  },
  {
   "cell_type": "code",
   "execution_count": null,
   "metadata": {},
   "outputs": [],
   "source": []
  }
 ],
 "metadata": {
  "ExecuteTimeLog": [
   {
    "duration": 1391,
    "start_time": "2023-08-07T07:57:36.522Z"
   },
   {
    "duration": 990,
    "start_time": "2023-08-07T07:59:56.081Z"
   },
   {
    "duration": 20,
    "start_time": "2023-08-07T08:00:12.706Z"
   },
   {
    "duration": 165,
    "start_time": "2023-08-07T08:25:46.413Z"
   },
   {
    "duration": 313,
    "start_time": "2023-08-07T08:27:10.883Z"
   },
   {
    "duration": 336,
    "start_time": "2023-08-07T08:27:17.041Z"
   },
   {
    "duration": 11,
    "start_time": "2023-08-07T08:27:21.312Z"
   },
   {
    "duration": 172,
    "start_time": "2023-08-07T08:27:46.009Z"
   },
   {
    "duration": 419,
    "start_time": "2023-08-07T08:27:55.755Z"
   },
   {
    "duration": 409,
    "start_time": "2023-08-07T08:30:42.335Z"
   },
   {
    "duration": 208,
    "start_time": "2023-08-07T08:31:52.910Z"
   },
   {
    "duration": 379,
    "start_time": "2023-08-07T08:32:54.382Z"
   },
   {
    "duration": 185,
    "start_time": "2023-08-07T08:33:05.565Z"
   },
   {
    "duration": 153,
    "start_time": "2023-08-07T08:33:30.166Z"
   },
   {
    "duration": 439,
    "start_time": "2023-08-07T08:34:12.632Z"
   },
   {
    "duration": 424,
    "start_time": "2023-08-07T08:34:21.404Z"
   },
   {
    "duration": 10,
    "start_time": "2023-08-07T08:34:26.185Z"
   },
   {
    "duration": 191,
    "start_time": "2023-08-07T08:34:40.990Z"
   },
   {
    "duration": 14,
    "start_time": "2023-08-07T08:34:42.383Z"
   },
   {
    "duration": 4,
    "start_time": "2023-08-07T08:35:50.576Z"
   },
   {
    "duration": 21,
    "start_time": "2023-08-07T08:35:57.465Z"
   },
   {
    "duration": 22,
    "start_time": "2023-08-07T08:39:31.872Z"
   },
   {
    "duration": 34,
    "start_time": "2023-08-07T08:39:49.506Z"
   },
   {
    "duration": 60,
    "start_time": "2023-08-07T08:42:00.410Z"
   },
   {
    "duration": 28,
    "start_time": "2023-08-07T08:42:06.183Z"
   },
   {
    "duration": 16,
    "start_time": "2023-08-07T08:42:20.981Z"
   },
   {
    "duration": 25,
    "start_time": "2023-08-07T08:46:52.156Z"
   },
   {
    "duration": 24,
    "start_time": "2023-08-07T08:46:56.469Z"
   },
   {
    "duration": 14,
    "start_time": "2023-08-07T08:47:02.708Z"
   },
   {
    "duration": 25,
    "start_time": "2023-08-07T08:47:03.651Z"
   },
   {
    "duration": 19,
    "start_time": "2023-08-07T08:47:06.792Z"
   },
   {
    "duration": 1175,
    "start_time": "2023-08-07T08:47:24.703Z"
   },
   {
    "duration": 239,
    "start_time": "2023-08-07T08:47:25.880Z"
   },
   {
    "duration": 15,
    "start_time": "2023-08-07T08:47:26.121Z"
   },
   {
    "duration": 42,
    "start_time": "2023-08-07T08:47:26.138Z"
   },
   {
    "duration": 28,
    "start_time": "2023-08-07T08:47:26.183Z"
   },
   {
    "duration": 105,
    "start_time": "2023-08-07T08:48:34.295Z"
   },
   {
    "duration": 14,
    "start_time": "2023-08-07T08:48:42.141Z"
   },
   {
    "duration": 91,
    "start_time": "2023-08-07T08:48:58.880Z"
   },
   {
    "duration": 89,
    "start_time": "2023-08-07T08:50:24.749Z"
   },
   {
    "duration": 65,
    "start_time": "2023-08-07T08:50:29.979Z"
   },
   {
    "duration": 21,
    "start_time": "2023-08-07T08:52:13.290Z"
   },
   {
    "duration": 34,
    "start_time": "2023-08-07T08:52:32.244Z"
   },
   {
    "duration": 72,
    "start_time": "2023-08-07T08:52:36.198Z"
   },
   {
    "duration": 69,
    "start_time": "2023-08-07T08:52:36.870Z"
   },
   {
    "duration": 32,
    "start_time": "2023-08-07T08:52:48.135Z"
   },
   {
    "duration": 127,
    "start_time": "2023-08-07T09:00:21.064Z"
   },
   {
    "duration": 149,
    "start_time": "2023-08-07T09:00:52.028Z"
   },
   {
    "duration": 1205,
    "start_time": "2023-08-07T09:01:19.238Z"
   },
   {
    "duration": 232,
    "start_time": "2023-08-07T09:01:20.445Z"
   },
   {
    "duration": 15,
    "start_time": "2023-08-07T09:01:20.679Z"
   },
   {
    "duration": 17,
    "start_time": "2023-08-07T09:01:20.695Z"
   },
   {
    "duration": 57,
    "start_time": "2023-08-07T09:01:20.715Z"
   },
   {
    "duration": 73,
    "start_time": "2023-08-07T09:01:20.774Z"
   },
   {
    "duration": 92,
    "start_time": "2023-08-07T09:01:20.849Z"
   },
   {
    "duration": 31,
    "start_time": "2023-08-07T09:01:20.943Z"
   },
   {
    "duration": 144,
    "start_time": "2023-08-07T09:01:20.976Z"
   },
   {
    "duration": 128,
    "start_time": "2023-08-07T09:02:14.715Z"
   },
   {
    "duration": 124,
    "start_time": "2023-08-07T09:02:38.234Z"
   },
   {
    "duration": 1042,
    "start_time": "2023-08-07T10:59:37.186Z"
   },
   {
    "duration": 263,
    "start_time": "2023-08-07T10:59:38.231Z"
   },
   {
    "duration": 15,
    "start_time": "2023-08-07T10:59:38.496Z"
   },
   {
    "duration": 18,
    "start_time": "2023-08-07T10:59:38.513Z"
   },
   {
    "duration": 31,
    "start_time": "2023-08-07T10:59:38.533Z"
   },
   {
    "duration": 71,
    "start_time": "2023-08-07T10:59:38.565Z"
   },
   {
    "duration": 97,
    "start_time": "2023-08-07T10:59:38.637Z"
   },
   {
    "duration": 33,
    "start_time": "2023-08-07T10:59:38.736Z"
   },
   {
    "duration": 162,
    "start_time": "2023-08-07T10:59:38.771Z"
   },
   {
    "duration": 4,
    "start_time": "2023-08-07T11:02:24.006Z"
   },
   {
    "duration": 12,
    "start_time": "2023-08-07T11:04:58.366Z"
   },
   {
    "duration": 11,
    "start_time": "2023-08-07T11:05:38.105Z"
   },
   {
    "duration": 11,
    "start_time": "2023-08-07T11:06:12.915Z"
   },
   {
    "duration": 12,
    "start_time": "2023-08-07T11:06:31.239Z"
   },
   {
    "duration": 6,
    "start_time": "2023-08-07T11:11:49.722Z"
   },
   {
    "duration": 6,
    "start_time": "2023-08-07T11:12:26.309Z"
   },
   {
    "duration": 435,
    "start_time": "2023-08-07T11:14:28.239Z"
   },
   {
    "duration": 311,
    "start_time": "2023-08-07T11:14:45.323Z"
   },
   {
    "duration": 327,
    "start_time": "2023-08-07T11:14:55.172Z"
   },
   {
    "duration": 384,
    "start_time": "2023-08-07T11:15:08.757Z"
   },
   {
    "duration": 1136,
    "start_time": "2023-08-07T11:16:32.619Z"
   },
   {
    "duration": 246,
    "start_time": "2023-08-07T11:16:33.765Z"
   },
   {
    "duration": 16,
    "start_time": "2023-08-07T11:16:34.013Z"
   },
   {
    "duration": 42,
    "start_time": "2023-08-07T11:16:34.031Z"
   },
   {
    "duration": 16,
    "start_time": "2023-08-07T11:16:34.076Z"
   },
   {
    "duration": 160,
    "start_time": "2023-08-07T11:16:34.094Z"
   },
   {
    "duration": 87,
    "start_time": "2023-08-07T11:16:34.256Z"
   },
   {
    "duration": 38,
    "start_time": "2023-08-07T11:16:34.345Z"
   },
   {
    "duration": 192,
    "start_time": "2023-08-07T11:16:34.385Z"
   },
   {
    "duration": 17,
    "start_time": "2023-08-07T11:16:34.579Z"
   },
   {
    "duration": 6,
    "start_time": "2023-08-07T11:16:34.598Z"
   },
   {
    "duration": 421,
    "start_time": "2023-08-07T11:16:34.606Z"
   },
   {
    "duration": 329,
    "start_time": "2023-08-07T11:16:54.153Z"
   },
   {
    "duration": 359,
    "start_time": "2023-08-07T11:18:20.270Z"
   },
   {
    "duration": 18,
    "start_time": "2023-08-07T11:28:12.263Z"
   },
   {
    "duration": 113,
    "start_time": "2023-08-07T11:29:39.262Z"
   },
   {
    "duration": 19,
    "start_time": "2023-08-07T11:30:09.883Z"
   },
   {
    "duration": 24,
    "start_time": "2023-08-07T11:30:40.612Z"
   },
   {
    "duration": 1086,
    "start_time": "2023-08-07T11:31:00.682Z"
   },
   {
    "duration": 235,
    "start_time": "2023-08-07T11:31:01.771Z"
   },
   {
    "duration": 16,
    "start_time": "2023-08-07T11:31:02.009Z"
   },
   {
    "duration": 101,
    "start_time": "2023-08-07T11:31:02.027Z"
   },
   {
    "duration": 95,
    "start_time": "2023-08-07T11:31:02.130Z"
   },
   {
    "duration": 146,
    "start_time": "2023-08-07T11:31:02.226Z"
   },
   {
    "duration": 97,
    "start_time": "2023-08-07T11:31:02.373Z"
   },
   {
    "duration": 100,
    "start_time": "2023-08-07T11:31:02.473Z"
   },
   {
    "duration": 195,
    "start_time": "2023-08-07T11:31:02.577Z"
   },
   {
    "duration": 15,
    "start_time": "2023-08-07T11:31:02.774Z"
   },
   {
    "duration": 83,
    "start_time": "2023-08-07T11:31:02.791Z"
   },
   {
    "duration": 458,
    "start_time": "2023-08-07T11:31:02.876Z"
   },
   {
    "duration": 129,
    "start_time": "2023-08-07T11:31:03.336Z"
   },
   {
    "duration": 24,
    "start_time": "2023-08-07T11:32:21.869Z"
   },
   {
    "duration": 23,
    "start_time": "2023-08-07T11:32:31.005Z"
   },
   {
    "duration": 23,
    "start_time": "2023-08-07T11:33:01.710Z"
   },
   {
    "duration": 23,
    "start_time": "2023-08-07T11:34:12.858Z"
   },
   {
    "duration": 21,
    "start_time": "2023-08-07T11:35:56.299Z"
   },
   {
    "duration": 20,
    "start_time": "2023-08-07T11:36:05.962Z"
   },
   {
    "duration": 122,
    "start_time": "2023-08-07T11:37:35.549Z"
   },
   {
    "duration": 131,
    "start_time": "2023-08-07T11:37:57.687Z"
   },
   {
    "duration": 30,
    "start_time": "2023-08-07T11:38:07.516Z"
   },
   {
    "duration": 15,
    "start_time": "2023-08-07T11:40:00.302Z"
   },
   {
    "duration": 15,
    "start_time": "2023-08-07T11:40:46.061Z"
   },
   {
    "duration": 38,
    "start_time": "2023-08-07T11:41:53.822Z"
   },
   {
    "duration": 35,
    "start_time": "2023-08-07T11:44:36.304Z"
   },
   {
    "duration": 27,
    "start_time": "2023-08-07T11:48:10.970Z"
   },
   {
    "duration": 33,
    "start_time": "2023-08-07T11:48:37.352Z"
   },
   {
    "duration": 2,
    "start_time": "2023-08-07T11:58:36.883Z"
   },
   {
    "duration": 3,
    "start_time": "2023-08-07T11:58:41.074Z"
   },
   {
    "duration": 27,
    "start_time": "2023-08-07T11:59:33.384Z"
   },
   {
    "duration": 9,
    "start_time": "2023-08-07T12:04:12.837Z"
   },
   {
    "duration": 150,
    "start_time": "2023-08-07T12:04:35.951Z"
   },
   {
    "duration": 67,
    "start_time": "2023-08-07T12:04:42.268Z"
   },
   {
    "duration": 58,
    "start_time": "2023-08-07T12:05:08.616Z"
   },
   {
    "duration": 172,
    "start_time": "2023-08-07T12:05:19.136Z"
   },
   {
    "duration": 180,
    "start_time": "2023-08-07T12:05:34.564Z"
   },
   {
    "duration": 19,
    "start_time": "2023-08-07T12:05:50.739Z"
   },
   {
    "duration": 12,
    "start_time": "2023-08-07T12:06:07.653Z"
   },
   {
    "duration": 2576,
    "start_time": "2023-08-07T12:15:11.594Z"
   },
   {
    "duration": 2014,
    "start_time": "2023-08-07T12:16:38.972Z"
   },
   {
    "duration": 1088,
    "start_time": "2023-08-07T12:23:14.830Z"
   },
   {
    "duration": 224,
    "start_time": "2023-08-07T12:23:15.920Z"
   },
   {
    "duration": 13,
    "start_time": "2023-08-07T12:23:16.146Z"
   },
   {
    "duration": 34,
    "start_time": "2023-08-07T12:23:16.161Z"
   },
   {
    "duration": 14,
    "start_time": "2023-08-07T12:23:16.197Z"
   },
   {
    "duration": 88,
    "start_time": "2023-08-07T12:23:16.213Z"
   },
   {
    "duration": 94,
    "start_time": "2023-08-07T12:23:16.302Z"
   },
   {
    "duration": 19,
    "start_time": "2023-08-07T12:23:16.399Z"
   },
   {
    "duration": 133,
    "start_time": "2023-08-07T12:23:16.420Z"
   },
   {
    "duration": 16,
    "start_time": "2023-08-07T12:23:16.557Z"
   },
   {
    "duration": 6,
    "start_time": "2023-08-07T12:23:16.575Z"
   },
   {
    "duration": 423,
    "start_time": "2023-08-07T12:23:16.583Z"
   },
   {
    "duration": 69,
    "start_time": "2023-08-07T12:23:17.008Z"
   },
   {
    "duration": 35,
    "start_time": "2023-08-07T12:23:17.079Z"
   },
   {
    "duration": 43,
    "start_time": "2023-08-07T12:23:17.116Z"
   },
   {
    "duration": 55,
    "start_time": "2023-08-07T12:23:17.161Z"
   },
   {
    "duration": 15,
    "start_time": "2023-08-07T12:23:17.220Z"
   },
   {
    "duration": 1966,
    "start_time": "2023-08-07T12:23:17.237Z"
   },
   {
    "duration": 1743,
    "start_time": "2023-08-07T12:36:31.620Z"
   },
   {
    "duration": 36,
    "start_time": "2023-08-07T12:42:24.382Z"
   },
   {
    "duration": 65,
    "start_time": "2023-08-07T12:43:59.789Z"
   },
   {
    "duration": 176,
    "start_time": "2023-08-07T12:44:46.123Z"
   },
   {
    "duration": 18,
    "start_time": "2023-08-07T12:44:58.895Z"
   },
   {
    "duration": 124,
    "start_time": "2023-08-07T12:45:10.585Z"
   },
   {
    "duration": 15,
    "start_time": "2023-08-07T12:45:26.381Z"
   },
   {
    "duration": 1222,
    "start_time": "2023-08-07T12:45:38.590Z"
   },
   {
    "duration": 266,
    "start_time": "2023-08-07T12:45:39.815Z"
   },
   {
    "duration": 18,
    "start_time": "2023-08-07T12:45:40.086Z"
   },
   {
    "duration": 37,
    "start_time": "2023-08-07T12:45:40.106Z"
   },
   {
    "duration": 32,
    "start_time": "2023-08-07T12:45:40.145Z"
   },
   {
    "duration": 85,
    "start_time": "2023-08-07T12:45:40.179Z"
   },
   {
    "duration": 94,
    "start_time": "2023-08-07T12:45:40.266Z"
   },
   {
    "duration": 31,
    "start_time": "2023-08-07T12:45:40.362Z"
   },
   {
    "duration": 150,
    "start_time": "2023-08-07T12:45:40.395Z"
   },
   {
    "duration": 19,
    "start_time": "2023-08-07T12:45:40.547Z"
   },
   {
    "duration": 12,
    "start_time": "2023-08-07T12:45:40.568Z"
   },
   {
    "duration": 489,
    "start_time": "2023-08-07T12:45:40.583Z"
   },
   {
    "duration": 44,
    "start_time": "2023-08-07T12:45:41.074Z"
   },
   {
    "duration": 61,
    "start_time": "2023-08-07T12:45:41.122Z"
   },
   {
    "duration": 31,
    "start_time": "2023-08-07T12:45:41.184Z"
   },
   {
    "duration": 86,
    "start_time": "2023-08-07T12:45:41.217Z"
   },
   {
    "duration": 13,
    "start_time": "2023-08-07T12:45:41.306Z"
   },
   {
    "duration": 47,
    "start_time": "2023-08-07T12:45:41.321Z"
   },
   {
    "duration": 72,
    "start_time": "2023-08-07T12:45:41.370Z"
   },
   {
    "duration": 1244,
    "start_time": "2023-08-08T08:51:09.808Z"
   },
   {
    "duration": 550,
    "start_time": "2023-08-08T08:51:11.054Z"
   },
   {
    "duration": 16,
    "start_time": "2023-08-08T08:51:11.606Z"
   },
   {
    "duration": 14,
    "start_time": "2023-08-08T08:51:11.624Z"
   },
   {
    "duration": 14,
    "start_time": "2023-08-08T08:51:11.640Z"
   },
   {
    "duration": 74,
    "start_time": "2023-08-08T08:51:11.656Z"
   },
   {
    "duration": 80,
    "start_time": "2023-08-08T08:51:11.732Z"
   },
   {
    "duration": 20,
    "start_time": "2023-08-08T08:51:11.814Z"
   },
   {
    "duration": 131,
    "start_time": "2023-08-08T08:51:11.835Z"
   },
   {
    "duration": 19,
    "start_time": "2023-08-08T08:51:11.968Z"
   },
   {
    "duration": 5,
    "start_time": "2023-08-08T08:51:11.989Z"
   },
   {
    "duration": 406,
    "start_time": "2023-08-08T08:51:11.996Z"
   },
   {
    "duration": 35,
    "start_time": "2023-08-08T08:51:12.404Z"
   },
   {
    "duration": 49,
    "start_time": "2023-08-08T08:51:12.441Z"
   },
   {
    "duration": 25,
    "start_time": "2023-08-08T08:51:12.491Z"
   },
   {
    "duration": 49,
    "start_time": "2023-08-08T08:51:12.517Z"
   },
   {
    "duration": 25,
    "start_time": "2023-08-08T08:51:12.568Z"
   },
   {
    "duration": 33,
    "start_time": "2023-08-08T08:51:12.594Z"
   },
   {
    "duration": 86,
    "start_time": "2023-08-08T08:51:12.629Z"
   },
   {
    "duration": 104,
    "start_time": "2023-08-08T08:57:35.599Z"
   },
   {
    "duration": 1067,
    "start_time": "2023-08-08T08:57:50.144Z"
   },
   {
    "duration": 213,
    "start_time": "2023-08-08T08:57:51.213Z"
   },
   {
    "duration": 14,
    "start_time": "2023-08-08T08:57:51.428Z"
   },
   {
    "duration": 40,
    "start_time": "2023-08-08T08:57:51.444Z"
   },
   {
    "duration": 31,
    "start_time": "2023-08-08T08:57:51.486Z"
   },
   {
    "duration": 74,
    "start_time": "2023-08-08T08:57:51.519Z"
   },
   {
    "duration": 94,
    "start_time": "2023-08-08T08:57:51.595Z"
   },
   {
    "duration": 39,
    "start_time": "2023-08-08T08:57:51.691Z"
   },
   {
    "duration": 274,
    "start_time": "2023-08-08T08:57:51.732Z"
   },
   {
    "duration": 15,
    "start_time": "2023-08-08T08:57:52.009Z"
   },
   {
    "duration": 21,
    "start_time": "2023-08-08T08:57:52.026Z"
   },
   {
    "duration": 551,
    "start_time": "2023-08-08T08:57:52.049Z"
   },
   {
    "duration": 39,
    "start_time": "2023-08-08T08:57:52.601Z"
   },
   {
    "duration": 53,
    "start_time": "2023-08-08T08:57:52.642Z"
   },
   {
    "duration": 28,
    "start_time": "2023-08-08T08:57:52.697Z"
   },
   {
    "duration": 64,
    "start_time": "2023-08-08T08:57:52.727Z"
   },
   {
    "duration": 13,
    "start_time": "2023-08-08T08:57:52.792Z"
   },
   {
    "duration": 35,
    "start_time": "2023-08-08T08:57:52.806Z"
   },
   {
    "duration": 80,
    "start_time": "2023-08-08T08:57:52.842Z"
   },
   {
    "duration": 3,
    "start_time": "2023-08-08T09:05:59.769Z"
   },
   {
    "duration": 104,
    "start_time": "2023-08-08T09:06:37.802Z"
   },
   {
    "duration": 1341,
    "start_time": "2023-08-08T09:06:44.854Z"
   },
   {
    "duration": 205,
    "start_time": "2023-08-08T09:06:46.197Z"
   },
   {
    "duration": 19,
    "start_time": "2023-08-08T09:06:46.404Z"
   },
   {
    "duration": 23,
    "start_time": "2023-08-08T09:06:46.425Z"
   },
   {
    "duration": 16,
    "start_time": "2023-08-08T09:06:46.450Z"
   },
   {
    "duration": 83,
    "start_time": "2023-08-08T09:06:46.488Z"
   },
   {
    "duration": 103,
    "start_time": "2023-08-08T09:06:46.573Z"
   },
   {
    "duration": 41,
    "start_time": "2023-08-08T09:06:46.677Z"
   },
   {
    "duration": 155,
    "start_time": "2023-08-08T09:06:46.720Z"
   },
   {
    "duration": 19,
    "start_time": "2023-08-08T09:06:46.877Z"
   },
   {
    "duration": 7,
    "start_time": "2023-08-08T09:06:46.898Z"
   },
   {
    "duration": 426,
    "start_time": "2023-08-08T09:06:46.907Z"
   },
   {
    "duration": 37,
    "start_time": "2023-08-08T09:06:47.334Z"
   },
   {
    "duration": 46,
    "start_time": "2023-08-08T09:06:47.374Z"
   },
   {
    "duration": 26,
    "start_time": "2023-08-08T09:06:47.422Z"
   },
   {
    "duration": 78,
    "start_time": "2023-08-08T09:06:47.449Z"
   },
   {
    "duration": 15,
    "start_time": "2023-08-08T09:06:47.529Z"
   },
   {
    "duration": 49,
    "start_time": "2023-08-08T09:06:47.546Z"
   },
   {
    "duration": 105,
    "start_time": "2023-08-08T09:06:47.597Z"
   },
   {
    "duration": 4,
    "start_time": "2023-08-08T09:06:47.704Z"
   },
   {
    "duration": 213,
    "start_time": "2023-08-08T09:09:10.199Z"
   },
   {
    "duration": 108,
    "start_time": "2023-08-08T09:09:34.036Z"
   },
   {
    "duration": 1015,
    "start_time": "2023-08-08T09:09:41.214Z"
   },
   {
    "duration": 199,
    "start_time": "2023-08-08T09:09:42.231Z"
   },
   {
    "duration": 14,
    "start_time": "2023-08-08T09:09:42.431Z"
   },
   {
    "duration": 21,
    "start_time": "2023-08-08T09:09:42.446Z"
   },
   {
    "duration": 25,
    "start_time": "2023-08-08T09:09:42.470Z"
   },
   {
    "duration": 62,
    "start_time": "2023-08-08T09:09:42.496Z"
   },
   {
    "duration": 90,
    "start_time": "2023-08-08T09:09:42.560Z"
   },
   {
    "duration": 38,
    "start_time": "2023-08-08T09:09:42.652Z"
   },
   {
    "duration": 131,
    "start_time": "2023-08-08T09:09:42.692Z"
   },
   {
    "duration": 13,
    "start_time": "2023-08-08T09:09:42.825Z"
   },
   {
    "duration": 6,
    "start_time": "2023-08-08T09:09:42.839Z"
   },
   {
    "duration": 425,
    "start_time": "2023-08-08T09:09:42.847Z"
   },
   {
    "duration": 43,
    "start_time": "2023-08-08T09:09:43.275Z"
   },
   {
    "duration": 35,
    "start_time": "2023-08-08T09:09:43.322Z"
   },
   {
    "duration": 44,
    "start_time": "2023-08-08T09:09:43.359Z"
   },
   {
    "duration": 50,
    "start_time": "2023-08-08T09:09:43.405Z"
   },
   {
    "duration": 31,
    "start_time": "2023-08-08T09:09:43.457Z"
   },
   {
    "duration": 34,
    "start_time": "2023-08-08T09:09:43.490Z"
   },
   {
    "duration": 84,
    "start_time": "2023-08-08T09:09:43.525Z"
   },
   {
    "duration": 3,
    "start_time": "2023-08-08T09:09:43.611Z"
   },
   {
    "duration": 101,
    "start_time": "2023-08-08T09:09:59.913Z"
   },
   {
    "duration": 1333,
    "start_time": "2023-08-08T09:10:07.261Z"
   },
   {
    "duration": 227,
    "start_time": "2023-08-08T09:10:08.596Z"
   },
   {
    "duration": 14,
    "start_time": "2023-08-08T09:10:08.824Z"
   },
   {
    "duration": 26,
    "start_time": "2023-08-08T09:10:08.840Z"
   },
   {
    "duration": 28,
    "start_time": "2023-08-08T09:10:08.868Z"
   },
   {
    "duration": 66,
    "start_time": "2023-08-08T09:10:08.897Z"
   },
   {
    "duration": 77,
    "start_time": "2023-08-08T09:10:08.965Z"
   },
   {
    "duration": 20,
    "start_time": "2023-08-08T09:10:09.044Z"
   },
   {
    "duration": 139,
    "start_time": "2023-08-08T09:10:09.066Z"
   },
   {
    "duration": 12,
    "start_time": "2023-08-08T09:10:09.207Z"
   },
   {
    "duration": 19,
    "start_time": "2023-08-08T09:10:09.221Z"
   },
   {
    "duration": 403,
    "start_time": "2023-08-08T09:10:09.242Z"
   },
   {
    "duration": 41,
    "start_time": "2023-08-08T09:10:09.647Z"
   },
   {
    "duration": 36,
    "start_time": "2023-08-08T09:10:09.691Z"
   },
   {
    "duration": 32,
    "start_time": "2023-08-08T09:10:09.728Z"
   },
   {
    "duration": 87,
    "start_time": "2023-08-08T09:10:09.762Z"
   },
   {
    "duration": 13,
    "start_time": "2023-08-08T09:10:09.851Z"
   },
   {
    "duration": 32,
    "start_time": "2023-08-08T09:10:09.866Z"
   },
   {
    "duration": 58,
    "start_time": "2023-08-08T09:10:09.900Z"
   },
   {
    "duration": 3,
    "start_time": "2023-08-08T09:10:09.960Z"
   },
   {
    "duration": 101,
    "start_time": "2023-08-08T09:12:12.312Z"
   },
   {
    "duration": 1511,
    "start_time": "2023-08-08T09:12:26.327Z"
   },
   {
    "duration": 215,
    "start_time": "2023-08-08T09:12:27.840Z"
   },
   {
    "duration": 14,
    "start_time": "2023-08-08T09:12:28.057Z"
   },
   {
    "duration": 128,
    "start_time": "2023-08-08T09:12:28.072Z"
   },
   {
    "duration": 35,
    "start_time": "2023-08-08T09:12:28.203Z"
   },
   {
    "duration": 117,
    "start_time": "2023-08-08T09:12:28.239Z"
   },
   {
    "duration": 68,
    "start_time": "2023-08-08T09:12:28.358Z"
   },
   {
    "duration": 107,
    "start_time": "2023-08-08T09:12:28.427Z"
   },
   {
    "duration": 197,
    "start_time": "2023-08-08T09:12:28.536Z"
   },
   {
    "duration": 59,
    "start_time": "2023-08-08T09:12:28.735Z"
   },
   {
    "duration": 52,
    "start_time": "2023-08-08T09:12:28.796Z"
   },
   {
    "duration": 471,
    "start_time": "2023-08-08T09:12:28.850Z"
   },
   {
    "duration": 38,
    "start_time": "2023-08-08T09:12:29.322Z"
   },
   {
    "duration": 120,
    "start_time": "2023-08-08T09:12:29.363Z"
   },
   {
    "duration": 25,
    "start_time": "2023-08-08T09:12:29.485Z"
   },
   {
    "duration": 253,
    "start_time": "2023-08-08T09:12:29.512Z"
   },
   {
    "duration": 95,
    "start_time": "2023-08-08T09:12:29.767Z"
   },
   {
    "duration": 78,
    "start_time": "2023-08-08T09:12:29.864Z"
   },
   {
    "duration": 66,
    "start_time": "2023-08-08T09:12:29.944Z"
   },
   {
    "duration": 40,
    "start_time": "2023-08-08T09:12:30.012Z"
   },
   {
    "duration": 107,
    "start_time": "2023-08-08T09:13:20.052Z"
   },
   {
    "duration": 1139,
    "start_time": "2023-08-08T09:13:26.566Z"
   },
   {
    "duration": 214,
    "start_time": "2023-08-08T09:13:27.707Z"
   },
   {
    "duration": 13,
    "start_time": "2023-08-08T09:13:27.923Z"
   },
   {
    "duration": 37,
    "start_time": "2023-08-08T09:13:27.938Z"
   },
   {
    "duration": 42,
    "start_time": "2023-08-08T09:13:27.977Z"
   },
   {
    "duration": 83,
    "start_time": "2023-08-08T09:13:28.021Z"
   },
   {
    "duration": 98,
    "start_time": "2023-08-08T09:13:28.106Z"
   },
   {
    "duration": 26,
    "start_time": "2023-08-08T09:13:28.206Z"
   },
   {
    "duration": 155,
    "start_time": "2023-08-08T09:13:28.233Z"
   },
   {
    "duration": 13,
    "start_time": "2023-08-08T09:13:28.390Z"
   },
   {
    "duration": 27,
    "start_time": "2023-08-08T09:13:28.404Z"
   },
   {
    "duration": 429,
    "start_time": "2023-08-08T09:13:28.433Z"
   },
   {
    "duration": 48,
    "start_time": "2023-08-08T09:13:28.864Z"
   },
   {
    "duration": 37,
    "start_time": "2023-08-08T09:13:28.914Z"
   },
   {
    "duration": 47,
    "start_time": "2023-08-08T09:13:28.953Z"
   },
   {
    "duration": 51,
    "start_time": "2023-08-08T09:13:29.002Z"
   },
   {
    "duration": 12,
    "start_time": "2023-08-08T09:13:29.054Z"
   },
   {
    "duration": 61,
    "start_time": "2023-08-08T09:13:29.068Z"
   },
   {
    "duration": 77,
    "start_time": "2023-08-08T09:13:29.130Z"
   },
   {
    "duration": 3,
    "start_time": "2023-08-08T09:13:29.209Z"
   },
   {
    "duration": 50,
    "start_time": "2023-08-08T09:22:40.086Z"
   },
   {
    "duration": 1232,
    "start_time": "2023-08-08T09:31:23.512Z"
   },
   {
    "duration": 253,
    "start_time": "2023-08-08T09:31:24.746Z"
   },
   {
    "duration": 15,
    "start_time": "2023-08-08T09:31:25.002Z"
   },
   {
    "duration": 50,
    "start_time": "2023-08-08T09:31:25.019Z"
   },
   {
    "duration": 24,
    "start_time": "2023-08-08T09:31:25.072Z"
   },
   {
    "duration": 89,
    "start_time": "2023-08-08T09:31:25.098Z"
   },
   {
    "duration": 70,
    "start_time": "2023-08-08T09:31:25.189Z"
   },
   {
    "duration": 31,
    "start_time": "2023-08-08T09:31:25.260Z"
   },
   {
    "duration": 148,
    "start_time": "2023-08-08T09:31:25.294Z"
   },
   {
    "duration": 13,
    "start_time": "2023-08-08T09:31:25.444Z"
   },
   {
    "duration": 30,
    "start_time": "2023-08-08T09:31:25.459Z"
   },
   {
    "duration": 398,
    "start_time": "2023-08-08T09:31:25.490Z"
   },
   {
    "duration": 38,
    "start_time": "2023-08-08T09:31:25.890Z"
   },
   {
    "duration": 61,
    "start_time": "2023-08-08T09:31:25.930Z"
   },
   {
    "duration": 25,
    "start_time": "2023-08-08T09:31:25.993Z"
   },
   {
    "duration": 68,
    "start_time": "2023-08-08T09:31:26.019Z"
   },
   {
    "duration": 12,
    "start_time": "2023-08-08T09:31:26.089Z"
   },
   {
    "duration": 34,
    "start_time": "2023-08-08T09:31:26.103Z"
   },
   {
    "duration": 91,
    "start_time": "2023-08-08T09:31:26.139Z"
   },
   {
    "duration": 73,
    "start_time": "2023-08-08T09:31:26.232Z"
   },
   {
    "duration": 10383,
    "start_time": "2023-08-08T09:43:36.444Z"
   },
   {
    "duration": 10625,
    "start_time": "2023-08-08T09:44:46.581Z"
   },
   {
    "duration": 7,
    "start_time": "2023-08-08T09:46:53.666Z"
   },
   {
    "duration": 9,
    "start_time": "2023-08-08T09:47:52.313Z"
   },
   {
    "duration": 2371,
    "start_time": "2023-08-08T09:48:36.348Z"
   },
   {
    "duration": 1766,
    "start_time": "2023-08-08T09:49:02.384Z"
   },
   {
    "duration": 1075,
    "start_time": "2023-08-08T09:49:09.897Z"
   },
   {
    "duration": 203,
    "start_time": "2023-08-08T09:49:10.975Z"
   },
   {
    "duration": 17,
    "start_time": "2023-08-08T09:49:11.179Z"
   },
   {
    "duration": 53,
    "start_time": "2023-08-08T09:49:11.198Z"
   },
   {
    "duration": 23,
    "start_time": "2023-08-08T09:49:11.254Z"
   },
   {
    "duration": 70,
    "start_time": "2023-08-08T09:49:11.278Z"
   },
   {
    "duration": 79,
    "start_time": "2023-08-08T09:49:11.350Z"
   },
   {
    "duration": 20,
    "start_time": "2023-08-08T09:49:11.430Z"
   },
   {
    "duration": 137,
    "start_time": "2023-08-08T09:49:11.452Z"
   },
   {
    "duration": 12,
    "start_time": "2023-08-08T09:49:11.591Z"
   },
   {
    "duration": 9,
    "start_time": "2023-08-08T09:49:11.605Z"
   },
   {
    "duration": 426,
    "start_time": "2023-08-08T09:49:11.616Z"
   },
   {
    "duration": 56,
    "start_time": "2023-08-08T09:49:12.044Z"
   },
   {
    "duration": 73,
    "start_time": "2023-08-08T09:49:12.104Z"
   },
   {
    "duration": 27,
    "start_time": "2023-08-08T09:49:12.179Z"
   },
   {
    "duration": 69,
    "start_time": "2023-08-08T09:49:12.207Z"
   },
   {
    "duration": 13,
    "start_time": "2023-08-08T09:49:12.278Z"
   },
   {
    "duration": 62,
    "start_time": "2023-08-08T09:49:12.292Z"
   },
   {
    "duration": 72,
    "start_time": "2023-08-08T09:49:12.355Z"
   },
   {
    "duration": 60,
    "start_time": "2023-08-08T09:49:12.428Z"
   },
   {
    "duration": 6,
    "start_time": "2023-08-08T09:49:12.490Z"
   },
   {
    "duration": 1771,
    "start_time": "2023-08-08T09:49:12.499Z"
   },
   {
    "duration": 14,
    "start_time": "2023-08-08T09:53:07.755Z"
   },
   {
    "duration": 102,
    "start_time": "2023-08-08T11:12:14.502Z"
   },
   {
    "duration": 153,
    "start_time": "2023-08-08T11:12:26.215Z"
   },
   {
    "duration": 1745,
    "start_time": "2023-08-08T11:12:32.717Z"
   },
   {
    "duration": 271,
    "start_time": "2023-08-08T11:13:15.543Z"
   },
   {
    "duration": 121,
    "start_time": "2023-08-08T11:13:27.100Z"
   },
   {
    "duration": 3126,
    "start_time": "2023-08-08T11:13:34.442Z"
   },
   {
    "duration": 1074,
    "start_time": "2023-08-08T11:13:45.459Z"
   },
   {
    "duration": 219,
    "start_time": "2023-08-08T11:13:46.534Z"
   },
   {
    "duration": 13,
    "start_time": "2023-08-08T11:13:46.755Z"
   },
   {
    "duration": 27,
    "start_time": "2023-08-08T11:13:46.770Z"
   },
   {
    "duration": 15,
    "start_time": "2023-08-08T11:13:46.799Z"
   },
   {
    "duration": 84,
    "start_time": "2023-08-08T11:13:46.815Z"
   },
   {
    "duration": 87,
    "start_time": "2023-08-08T11:13:46.900Z"
   },
   {
    "duration": 22,
    "start_time": "2023-08-08T11:13:46.989Z"
   },
   {
    "duration": 134,
    "start_time": "2023-08-08T11:13:47.012Z"
   },
   {
    "duration": 14,
    "start_time": "2023-08-08T11:13:47.148Z"
   },
   {
    "duration": 13,
    "start_time": "2023-08-08T11:13:47.163Z"
   },
   {
    "duration": 405,
    "start_time": "2023-08-08T11:13:47.187Z"
   },
   {
    "duration": 36,
    "start_time": "2023-08-08T11:13:47.594Z"
   },
   {
    "duration": 57,
    "start_time": "2023-08-08T11:13:47.632Z"
   },
   {
    "duration": 26,
    "start_time": "2023-08-08T11:13:47.690Z"
   },
   {
    "duration": 73,
    "start_time": "2023-08-08T11:13:47.717Z"
   },
   {
    "duration": 12,
    "start_time": "2023-08-08T11:13:47.792Z"
   },
   {
    "duration": 63,
    "start_time": "2023-08-08T11:13:47.806Z"
   },
   {
    "duration": 70,
    "start_time": "2023-08-08T11:13:47.870Z"
   },
   {
    "duration": 64,
    "start_time": "2023-08-08T11:13:47.942Z"
   },
   {
    "duration": 4003,
    "start_time": "2023-08-08T11:13:48.008Z"
   },
   {
    "duration": 4138,
    "start_time": "2023-08-08T11:14:22.443Z"
   },
   {
    "duration": 3,
    "start_time": "2023-08-08T11:14:38.325Z"
   },
   {
    "duration": 148,
    "start_time": "2023-08-08T11:14:39.490Z"
   },
   {
    "duration": 10,
    "start_time": "2023-08-08T11:14:40.251Z"
   },
   {
    "duration": 12,
    "start_time": "2023-08-08T11:14:42.884Z"
   },
   {
    "duration": 16,
    "start_time": "2023-08-08T11:14:47.997Z"
   },
   {
    "duration": 55,
    "start_time": "2023-08-08T11:14:48.924Z"
   },
   {
    "duration": 67,
    "start_time": "2023-08-08T11:14:50.473Z"
   },
   {
    "duration": 20,
    "start_time": "2023-08-08T11:14:54.177Z"
   },
   {
    "duration": 133,
    "start_time": "2023-08-08T11:14:54.992Z"
   },
   {
    "duration": 11,
    "start_time": "2023-08-08T11:15:03.377Z"
   },
   {
    "duration": 6,
    "start_time": "2023-08-08T11:15:04.687Z"
   },
   {
    "duration": 304,
    "start_time": "2023-08-08T11:15:07.154Z"
   },
   {
    "duration": 36,
    "start_time": "2023-08-08T11:15:12.297Z"
   },
   {
    "duration": 33,
    "start_time": "2023-08-08T11:15:16.016Z"
   },
   {
    "duration": 28,
    "start_time": "2023-08-08T11:15:21.715Z"
   },
   {
    "duration": 49,
    "start_time": "2023-08-08T11:15:37.044Z"
   },
   {
    "duration": 12,
    "start_time": "2023-08-08T11:15:40.201Z"
   },
   {
    "duration": 2507,
    "start_time": "2023-08-08T11:16:04.229Z"
   },
   {
    "duration": 30,
    "start_time": "2023-08-08T11:16:12.825Z"
   },
   {
    "duration": 1693,
    "start_time": "2023-08-08T11:16:44.040Z"
   },
   {
    "duration": 58,
    "start_time": "2023-08-08T11:17:42.254Z"
   },
   {
    "duration": 50,
    "start_time": "2023-08-08T11:17:51.321Z"
   },
   {
    "duration": 1699,
    "start_time": "2023-08-08T11:17:58.271Z"
   },
   {
    "duration": 2593,
    "start_time": "2023-08-08T11:18:38.774Z"
   },
   {
    "duration": 14,
    "start_time": "2023-08-08T11:19:38.132Z"
   },
   {
    "duration": 6,
    "start_time": "2023-08-08T11:20:09.102Z"
   },
   {
    "duration": 30,
    "start_time": "2023-08-08T11:20:14.374Z"
   },
   {
    "duration": 18,
    "start_time": "2023-08-08T11:20:19.155Z"
   },
   {
    "duration": 5,
    "start_time": "2023-08-08T11:21:27.379Z"
   },
   {
    "duration": 54,
    "start_time": "2023-08-08T11:22:19.892Z"
   },
   {
    "duration": 58,
    "start_time": "2023-08-08T11:22:30.848Z"
   },
   {
    "duration": 62,
    "start_time": "2023-08-08T11:22:56.451Z"
   },
   {
    "duration": 128,
    "start_time": "2023-08-08T11:23:38.895Z"
   },
   {
    "duration": 70,
    "start_time": "2023-08-08T11:23:44.618Z"
   },
   {
    "duration": 110,
    "start_time": "2023-08-08T11:24:04.853Z"
   },
   {
    "duration": 96,
    "start_time": "2023-08-08T11:24:43.229Z"
   },
   {
    "duration": 2384,
    "start_time": "2023-08-08T11:25:52.922Z"
   },
   {
    "duration": 1586,
    "start_time": "2023-08-08T11:26:14.186Z"
   },
   {
    "duration": 59,
    "start_time": "2023-08-08T11:26:43.140Z"
   },
   {
    "duration": 2517,
    "start_time": "2023-08-08T11:27:20.732Z"
   },
   {
    "duration": 27,
    "start_time": "2023-08-08T11:28:36.726Z"
   },
   {
    "duration": 40,
    "start_time": "2023-08-08T11:28:50.851Z"
   },
   {
    "duration": 60,
    "start_time": "2023-08-08T11:29:24.260Z"
   },
   {
    "duration": 39,
    "start_time": "2023-08-08T11:29:26.422Z"
   },
   {
    "duration": 4351,
    "start_time": "2023-08-08T11:29:31.586Z"
   },
   {
    "duration": 72,
    "start_time": "2023-08-08T11:35:34.479Z"
   },
   {
    "duration": 24,
    "start_time": "2023-08-08T11:42:23.819Z"
   },
   {
    "duration": 25,
    "start_time": "2023-08-08T11:42:42.307Z"
   },
   {
    "duration": 25,
    "start_time": "2023-08-08T11:43:05.520Z"
   },
   {
    "duration": 215,
    "start_time": "2023-08-08T11:57:12.475Z"
   },
   {
    "duration": 5,
    "start_time": "2023-08-08T11:57:37.844Z"
   },
   {
    "duration": 15,
    "start_time": "2023-08-08T12:00:28.488Z"
   },
   {
    "duration": 0,
    "start_time": "2023-08-08T12:01:33.436Z"
   },
   {
    "duration": 6,
    "start_time": "2023-08-08T12:01:53.326Z"
   },
   {
    "duration": 3769,
    "start_time": "2023-08-08T12:01:54.454Z"
   },
   {
    "duration": 11,
    "start_time": "2023-08-08T12:07:58.675Z"
   },
   {
    "duration": 2760,
    "start_time": "2023-08-08T12:08:12.829Z"
   },
   {
    "duration": 0,
    "start_time": "2023-08-08T12:08:15.592Z"
   },
   {
    "duration": 9,
    "start_time": "2023-08-08T12:08:19.201Z"
   },
   {
    "duration": 2634,
    "start_time": "2023-08-08T12:08:27.218Z"
   },
   {
    "duration": 0,
    "start_time": "2023-08-08T12:08:29.854Z"
   },
   {
    "duration": 6270,
    "start_time": "2023-08-08T12:08:46.350Z"
   },
   {
    "duration": 0,
    "start_time": "2023-08-08T12:08:52.622Z"
   },
   {
    "duration": 8,
    "start_time": "2023-08-08T12:08:52.998Z"
   },
   {
    "duration": 3165,
    "start_time": "2023-08-08T12:27:18.840Z"
   },
   {
    "duration": 21,
    "start_time": "2023-08-08T12:28:10.244Z"
   },
   {
    "duration": 1165,
    "start_time": "2023-08-08T12:31:40.246Z"
   },
   {
    "duration": 200,
    "start_time": "2023-08-08T12:31:41.413Z"
   },
   {
    "duration": 14,
    "start_time": "2023-08-08T12:31:41.615Z"
   },
   {
    "duration": 16,
    "start_time": "2023-08-08T12:31:41.631Z"
   },
   {
    "duration": 43,
    "start_time": "2023-08-08T12:31:41.649Z"
   },
   {
    "duration": 62,
    "start_time": "2023-08-08T12:31:41.694Z"
   },
   {
    "duration": 86,
    "start_time": "2023-08-08T12:31:41.757Z"
   },
   {
    "duration": 21,
    "start_time": "2023-08-08T12:31:41.845Z"
   },
   {
    "duration": 127,
    "start_time": "2023-08-08T12:31:41.868Z"
   },
   {
    "duration": 13,
    "start_time": "2023-08-08T12:31:41.997Z"
   },
   {
    "duration": 12,
    "start_time": "2023-08-08T12:31:42.012Z"
   },
   {
    "duration": 431,
    "start_time": "2023-08-08T12:31:42.026Z"
   },
   {
    "duration": 52,
    "start_time": "2023-08-08T12:31:42.459Z"
   },
   {
    "duration": 36,
    "start_time": "2023-08-08T12:31:42.514Z"
   },
   {
    "duration": 48,
    "start_time": "2023-08-08T12:31:42.552Z"
   },
   {
    "duration": 52,
    "start_time": "2023-08-08T12:31:42.602Z"
   },
   {
    "duration": 32,
    "start_time": "2023-08-08T12:31:42.656Z"
   },
   {
    "duration": 37,
    "start_time": "2023-08-08T12:31:42.690Z"
   },
   {
    "duration": 79,
    "start_time": "2023-08-08T12:31:42.728Z"
   },
   {
    "duration": 51,
    "start_time": "2023-08-08T12:31:42.808Z"
   },
   {
    "duration": 82,
    "start_time": "2023-08-08T12:31:42.861Z"
   },
   {
    "duration": 5270,
    "start_time": "2023-08-08T12:31:42.945Z"
   },
   {
    "duration": 163,
    "start_time": "2023-08-08T12:32:40.184Z"
   },
   {
    "duration": 6,
    "start_time": "2023-08-08T12:32:53.400Z"
   },
   {
    "duration": 3087,
    "start_time": "2023-08-08T12:33:38.356Z"
   },
   {
    "duration": 101,
    "start_time": "2023-08-08T12:34:14.063Z"
   },
   {
    "duration": 20,
    "start_time": "2023-08-08T12:52:33.456Z"
   },
   {
    "duration": 4,
    "start_time": "2023-08-08T12:53:44.257Z"
   },
   {
    "duration": 1996,
    "start_time": "2023-08-08T12:53:45.479Z"
   },
   {
    "duration": 1026,
    "start_time": "2023-08-08T12:54:08.315Z"
   },
   {
    "duration": 186,
    "start_time": "2023-08-08T12:54:09.343Z"
   },
   {
    "duration": 13,
    "start_time": "2023-08-08T12:54:09.531Z"
   },
   {
    "duration": 23,
    "start_time": "2023-08-08T12:54:09.545Z"
   },
   {
    "duration": 24,
    "start_time": "2023-08-08T12:54:09.571Z"
   },
   {
    "duration": 91,
    "start_time": "2023-08-08T12:54:09.596Z"
   },
   {
    "duration": 73,
    "start_time": "2023-08-08T12:54:09.689Z"
   },
   {
    "duration": 29,
    "start_time": "2023-08-08T12:54:09.764Z"
   },
   {
    "duration": 119,
    "start_time": "2023-08-08T12:54:09.795Z"
   },
   {
    "duration": 15,
    "start_time": "2023-08-08T12:54:09.916Z"
   },
   {
    "duration": 9,
    "start_time": "2023-08-08T12:54:09.932Z"
   },
   {
    "duration": 409,
    "start_time": "2023-08-08T12:54:09.942Z"
   },
   {
    "duration": 45,
    "start_time": "2023-08-08T12:54:10.353Z"
   },
   {
    "duration": 48,
    "start_time": "2023-08-08T12:54:10.400Z"
   },
   {
    "duration": 50,
    "start_time": "2023-08-08T12:54:10.450Z"
   },
   {
    "duration": 75,
    "start_time": "2023-08-08T12:54:10.502Z"
   },
   {
    "duration": 27,
    "start_time": "2023-08-08T12:54:10.579Z"
   },
   {
    "duration": 73,
    "start_time": "2023-08-08T12:54:10.608Z"
   },
   {
    "duration": 75,
    "start_time": "2023-08-08T12:54:10.682Z"
   },
   {
    "duration": 60,
    "start_time": "2023-08-08T12:54:10.758Z"
   },
   {
    "duration": 71,
    "start_time": "2023-08-08T12:54:10.819Z"
   },
   {
    "duration": 5,
    "start_time": "2023-08-08T12:54:10.892Z"
   },
   {
    "duration": 2158,
    "start_time": "2023-08-08T12:54:10.899Z"
   },
   {
    "duration": 1911,
    "start_time": "2023-08-08T12:54:25.524Z"
   },
   {
    "duration": 3317,
    "start_time": "2023-08-08T12:55:10.393Z"
   },
   {
    "duration": 24,
    "start_time": "2023-08-08T12:56:39.008Z"
   },
   {
    "duration": 22,
    "start_time": "2023-08-08T12:57:17.727Z"
   },
   {
    "duration": 23,
    "start_time": "2023-08-08T12:57:32.764Z"
   },
   {
    "duration": 17,
    "start_time": "2023-08-08T13:00:29.025Z"
   },
   {
    "duration": 1281,
    "start_time": "2023-08-09T06:37:09.908Z"
   },
   {
    "duration": 1077,
    "start_time": "2023-08-09T06:37:11.191Z"
   },
   {
    "duration": 16,
    "start_time": "2023-08-09T06:37:12.272Z"
   },
   {
    "duration": 17,
    "start_time": "2023-08-09T06:37:12.291Z"
   },
   {
    "duration": 24,
    "start_time": "2023-08-09T06:37:12.311Z"
   },
   {
    "duration": 84,
    "start_time": "2023-08-09T06:37:12.337Z"
   },
   {
    "duration": 81,
    "start_time": "2023-08-09T06:37:12.423Z"
   },
   {
    "duration": 32,
    "start_time": "2023-08-09T06:37:12.507Z"
   },
   {
    "duration": 173,
    "start_time": "2023-08-09T06:37:12.540Z"
   },
   {
    "duration": 14,
    "start_time": "2023-08-09T06:37:12.715Z"
   },
   {
    "duration": 6,
    "start_time": "2023-08-09T06:37:12.730Z"
   },
   {
    "duration": 414,
    "start_time": "2023-08-09T06:37:12.737Z"
   },
   {
    "duration": 46,
    "start_time": "2023-08-09T06:37:13.153Z"
   },
   {
    "duration": 37,
    "start_time": "2023-08-09T06:37:13.202Z"
   },
   {
    "duration": 45,
    "start_time": "2023-08-09T06:37:13.241Z"
   },
   {
    "duration": 51,
    "start_time": "2023-08-09T06:37:13.288Z"
   },
   {
    "duration": 13,
    "start_time": "2023-08-09T06:37:13.341Z"
   },
   {
    "duration": 38,
    "start_time": "2023-08-09T06:37:13.375Z"
   },
   {
    "duration": 107,
    "start_time": "2023-08-09T06:37:13.415Z"
   },
   {
    "duration": 77,
    "start_time": "2023-08-09T06:37:13.524Z"
   },
   {
    "duration": 22,
    "start_time": "2023-08-09T06:37:13.603Z"
   },
   {
    "duration": 1239,
    "start_time": "2023-08-09T07:03:57.759Z"
   },
   {
    "duration": 166,
    "start_time": "2023-08-09T07:03:59.000Z"
   },
   {
    "duration": 13,
    "start_time": "2023-08-09T07:03:59.176Z"
   },
   {
    "duration": 21,
    "start_time": "2023-08-09T07:03:59.190Z"
   },
   {
    "duration": 15,
    "start_time": "2023-08-09T07:03:59.212Z"
   },
   {
    "duration": 100,
    "start_time": "2023-08-09T07:03:59.229Z"
   },
   {
    "duration": 99,
    "start_time": "2023-08-09T07:03:59.331Z"
   },
   {
    "duration": 21,
    "start_time": "2023-08-09T07:03:59.432Z"
   },
   {
    "duration": 144,
    "start_time": "2023-08-09T07:03:59.457Z"
   },
   {
    "duration": 16,
    "start_time": "2023-08-09T07:03:59.603Z"
   },
   {
    "duration": 9,
    "start_time": "2023-08-09T07:03:59.621Z"
   },
   {
    "duration": 422,
    "start_time": "2023-08-09T07:03:59.632Z"
   },
   {
    "duration": 52,
    "start_time": "2023-08-09T07:04:00.057Z"
   },
   {
    "duration": 63,
    "start_time": "2023-08-09T07:04:00.110Z"
   },
   {
    "duration": 40,
    "start_time": "2023-08-09T07:04:00.175Z"
   },
   {
    "duration": 92,
    "start_time": "2023-08-09T07:04:00.217Z"
   },
   {
    "duration": 18,
    "start_time": "2023-08-09T07:04:00.314Z"
   },
   {
    "duration": 91,
    "start_time": "2023-08-09T07:04:00.335Z"
   },
   {
    "duration": 89,
    "start_time": "2023-08-09T07:04:00.429Z"
   },
   {
    "duration": 69,
    "start_time": "2023-08-09T07:04:00.520Z"
   },
   {
    "duration": 32,
    "start_time": "2023-08-09T07:04:00.591Z"
   },
   {
    "duration": 105,
    "start_time": "2023-08-09T07:06:26.683Z"
   },
   {
    "duration": 24,
    "start_time": "2023-08-09T07:07:04.874Z"
   },
   {
    "duration": 10,
    "start_time": "2023-08-09T07:18:15.355Z"
   },
   {
    "duration": 1189,
    "start_time": "2023-08-09T07:18:23.411Z"
   },
   {
    "duration": 167,
    "start_time": "2023-08-09T07:18:24.602Z"
   },
   {
    "duration": 14,
    "start_time": "2023-08-09T07:18:24.771Z"
   },
   {
    "duration": 18,
    "start_time": "2023-08-09T07:18:24.787Z"
   },
   {
    "duration": 16,
    "start_time": "2023-08-09T07:18:24.807Z"
   },
   {
    "duration": 101,
    "start_time": "2023-08-09T07:18:24.824Z"
   },
   {
    "duration": 89,
    "start_time": "2023-08-09T07:18:24.927Z"
   },
   {
    "duration": 21,
    "start_time": "2023-08-09T07:18:25.017Z"
   },
   {
    "duration": 131,
    "start_time": "2023-08-09T07:18:25.040Z"
   },
   {
    "duration": 15,
    "start_time": "2023-08-09T07:18:25.174Z"
   },
   {
    "duration": 5,
    "start_time": "2023-08-09T07:18:25.191Z"
   },
   {
    "duration": 405,
    "start_time": "2023-08-09T07:18:25.198Z"
   },
   {
    "duration": 37,
    "start_time": "2023-08-09T07:18:25.604Z"
   },
   {
    "duration": 50,
    "start_time": "2023-08-09T07:18:25.644Z"
   },
   {
    "duration": 24,
    "start_time": "2023-08-09T07:18:25.695Z"
   },
   {
    "duration": 68,
    "start_time": "2023-08-09T07:18:25.720Z"
   },
   {
    "duration": 12,
    "start_time": "2023-08-09T07:18:25.790Z"
   },
   {
    "duration": 44,
    "start_time": "2023-08-09T07:18:25.803Z"
   },
   {
    "duration": 77,
    "start_time": "2023-08-09T07:18:25.849Z"
   },
   {
    "duration": 71,
    "start_time": "2023-08-09T07:18:25.928Z"
   },
   {
    "duration": 23,
    "start_time": "2023-08-09T07:18:26.001Z"
   },
   {
    "duration": 134,
    "start_time": "2023-08-09T07:18:26.026Z"
   },
   {
    "duration": 21,
    "start_time": "2023-08-09T07:18:49.754Z"
   },
   {
    "duration": 24,
    "start_time": "2023-08-09T07:19:04.115Z"
   },
   {
    "duration": 24,
    "start_time": "2023-08-09T07:19:35.478Z"
   },
   {
    "duration": 44,
    "start_time": "2023-08-09T07:22:29.628Z"
   },
   {
    "duration": 6,
    "start_time": "2023-08-09T07:22:40.150Z"
   },
   {
    "duration": 134,
    "start_time": "2023-08-09T07:25:04.286Z"
   },
   {
    "duration": 134,
    "start_time": "2023-08-09T07:25:21.182Z"
   },
   {
    "duration": 115,
    "start_time": "2023-08-09T07:25:39.352Z"
   },
   {
    "duration": 109,
    "start_time": "2023-08-09T07:25:55.915Z"
   },
   {
    "duration": 4,
    "start_time": "2023-08-09T07:26:23.556Z"
   },
   {
    "duration": 65,
    "start_time": "2023-08-09T07:26:31.990Z"
   },
   {
    "duration": 61,
    "start_time": "2023-08-09T07:26:42.429Z"
   },
   {
    "duration": 66,
    "start_time": "2023-08-09T07:27:03.636Z"
   },
   {
    "duration": 12,
    "start_time": "2023-08-09T07:35:17.891Z"
   },
   {
    "duration": 204,
    "start_time": "2023-08-09T07:35:34.175Z"
   },
   {
    "duration": 198,
    "start_time": "2023-08-09T07:40:26.995Z"
   },
   {
    "duration": 205,
    "start_time": "2023-08-09T07:41:33.475Z"
   },
   {
    "duration": 200,
    "start_time": "2023-08-09T07:42:05.308Z"
   },
   {
    "duration": 207,
    "start_time": "2023-08-09T07:42:23.014Z"
   },
   {
    "duration": 3,
    "start_time": "2023-08-09T07:44:46.804Z"
   },
   {
    "duration": 3,
    "start_time": "2023-08-09T07:44:56.267Z"
   },
   {
    "duration": 244,
    "start_time": "2023-08-09T08:33:20.058Z"
   },
   {
    "duration": 23,
    "start_time": "2023-08-09T08:33:21.782Z"
   },
   {
    "duration": 7,
    "start_time": "2023-08-09T08:35:04.797Z"
   },
   {
    "duration": 130,
    "start_time": "2023-08-09T08:35:48.120Z"
   },
   {
    "duration": 11,
    "start_time": "2023-08-09T08:36:32.882Z"
   },
   {
    "duration": 22,
    "start_time": "2023-08-09T08:36:39.738Z"
   },
   {
    "duration": 6,
    "start_time": "2023-08-09T08:36:49.270Z"
   },
   {
    "duration": 122,
    "start_time": "2023-08-09T08:36:56.216Z"
   },
   {
    "duration": 134,
    "start_time": "2023-08-09T08:37:25.068Z"
   },
   {
    "duration": 9,
    "start_time": "2023-08-09T08:37:37.454Z"
   },
   {
    "duration": 160,
    "start_time": "2023-08-09T08:38:01.448Z"
   },
   {
    "duration": 135,
    "start_time": "2023-08-09T08:38:26.300Z"
   },
   {
    "duration": 210,
    "start_time": "2023-08-09T08:39:33.464Z"
   },
   {
    "duration": 1265,
    "start_time": "2023-08-09T09:04:30.237Z"
   },
   {
    "duration": 173,
    "start_time": "2023-08-09T09:04:31.504Z"
   },
   {
    "duration": 15,
    "start_time": "2023-08-09T09:04:31.679Z"
   },
   {
    "duration": 46,
    "start_time": "2023-08-09T09:04:31.696Z"
   },
   {
    "duration": 45,
    "start_time": "2023-08-09T09:04:31.744Z"
   },
   {
    "duration": 73,
    "start_time": "2023-08-09T09:04:31.792Z"
   },
   {
    "duration": 104,
    "start_time": "2023-08-09T09:04:31.875Z"
   },
   {
    "duration": 21,
    "start_time": "2023-08-09T09:04:31.981Z"
   },
   {
    "duration": 157,
    "start_time": "2023-08-09T09:04:32.004Z"
   },
   {
    "duration": 24,
    "start_time": "2023-08-09T09:04:32.164Z"
   },
   {
    "duration": 19,
    "start_time": "2023-08-09T09:04:32.190Z"
   },
   {
    "duration": 467,
    "start_time": "2023-08-09T09:04:32.211Z"
   },
   {
    "duration": 39,
    "start_time": "2023-08-09T09:04:32.680Z"
   },
   {
    "duration": 85,
    "start_time": "2023-08-09T09:04:32.721Z"
   },
   {
    "duration": 43,
    "start_time": "2023-08-09T09:04:32.808Z"
   },
   {
    "duration": 59,
    "start_time": "2023-08-09T09:04:32.852Z"
   },
   {
    "duration": 13,
    "start_time": "2023-08-09T09:04:32.913Z"
   },
   {
    "duration": 79,
    "start_time": "2023-08-09T09:04:32.928Z"
   },
   {
    "duration": 73,
    "start_time": "2023-08-09T09:04:33.008Z"
   },
   {
    "duration": 54,
    "start_time": "2023-08-09T09:04:33.083Z"
   },
   {
    "duration": 241,
    "start_time": "2023-08-09T09:04:33.139Z"
   },
   {
    "duration": 139,
    "start_time": "2023-08-09T09:04:33.382Z"
   },
   {
    "duration": 0,
    "start_time": "2023-08-09T09:04:33.522Z"
   },
   {
    "duration": 0,
    "start_time": "2023-08-09T09:04:33.524Z"
   },
   {
    "duration": 0,
    "start_time": "2023-08-09T09:04:33.526Z"
   },
   {
    "duration": 0,
    "start_time": "2023-08-09T09:04:33.528Z"
   },
   {
    "duration": 0,
    "start_time": "2023-08-09T09:04:33.530Z"
   },
   {
    "duration": 1063,
    "start_time": "2023-08-09T09:05:44.809Z"
   },
   {
    "duration": 162,
    "start_time": "2023-08-09T09:05:45.874Z"
   },
   {
    "duration": 14,
    "start_time": "2023-08-09T09:05:46.037Z"
   },
   {
    "duration": 23,
    "start_time": "2023-08-09T09:05:46.053Z"
   },
   {
    "duration": 15,
    "start_time": "2023-08-09T09:05:46.078Z"
   },
   {
    "duration": 80,
    "start_time": "2023-08-09T09:05:46.095Z"
   },
   {
    "duration": 76,
    "start_time": "2023-08-09T09:05:46.176Z"
   },
   {
    "duration": 32,
    "start_time": "2023-08-09T09:05:46.253Z"
   },
   {
    "duration": 118,
    "start_time": "2023-08-09T09:05:46.287Z"
   },
   {
    "duration": 13,
    "start_time": "2023-08-09T09:05:46.407Z"
   },
   {
    "duration": 11,
    "start_time": "2023-08-09T09:05:46.421Z"
   },
   {
    "duration": 374,
    "start_time": "2023-08-09T09:05:46.433Z"
   },
   {
    "duration": 35,
    "start_time": "2023-08-09T09:05:46.809Z"
   },
   {
    "duration": 52,
    "start_time": "2023-08-09T09:05:46.846Z"
   },
   {
    "duration": 24,
    "start_time": "2023-08-09T09:05:46.900Z"
   },
   {
    "duration": 64,
    "start_time": "2023-08-09T09:05:46.926Z"
   },
   {
    "duration": 12,
    "start_time": "2023-08-09T09:05:46.992Z"
   },
   {
    "duration": 46,
    "start_time": "2023-08-09T09:05:47.006Z"
   },
   {
    "duration": 73,
    "start_time": "2023-08-09T09:05:47.054Z"
   },
   {
    "duration": 63,
    "start_time": "2023-08-09T09:05:47.128Z"
   },
   {
    "duration": 206,
    "start_time": "2023-08-09T09:05:47.193Z"
   },
   {
    "duration": 22,
    "start_time": "2023-08-09T09:05:47.401Z"
   },
   {
    "duration": 8,
    "start_time": "2023-08-09T09:05:47.425Z"
   },
   {
    "duration": 152,
    "start_time": "2023-08-09T09:05:47.434Z"
   },
   {
    "duration": 0,
    "start_time": "2023-08-09T09:05:47.588Z"
   },
   {
    "duration": 0,
    "start_time": "2023-08-09T09:05:47.589Z"
   },
   {
    "duration": 0,
    "start_time": "2023-08-09T09:05:47.590Z"
   },
   {
    "duration": 6,
    "start_time": "2023-08-09T09:06:10.671Z"
   },
   {
    "duration": 132,
    "start_time": "2023-08-09T09:06:11.539Z"
   },
   {
    "duration": 143,
    "start_time": "2023-08-09T09:06:15.149Z"
   },
   {
    "duration": 131,
    "start_time": "2023-08-09T09:06:16.605Z"
   },
   {
    "duration": 197,
    "start_time": "2023-08-09T09:06:17.564Z"
   },
   {
    "duration": 5,
    "start_time": "2023-08-09T09:09:09.980Z"
   },
   {
    "duration": 41,
    "start_time": "2023-08-09T09:09:19.549Z"
   },
   {
    "duration": 6,
    "start_time": "2023-08-09T09:10:19.423Z"
   },
   {
    "duration": 136,
    "start_time": "2023-08-09T09:10:22.970Z"
   },
   {
    "duration": 130,
    "start_time": "2023-08-09T09:10:34.783Z"
   },
   {
    "duration": 123,
    "start_time": "2023-08-09T09:10:41.021Z"
   },
   {
    "duration": 215,
    "start_time": "2023-08-09T09:10:47.239Z"
   },
   {
    "duration": 48,
    "start_time": "2023-08-09T09:11:11.262Z"
   },
   {
    "duration": 125,
    "start_time": "2023-08-09T09:11:20.770Z"
   },
   {
    "duration": 130,
    "start_time": "2023-08-09T09:11:35.119Z"
   },
   {
    "duration": 126,
    "start_time": "2023-08-09T09:11:41.691Z"
   },
   {
    "duration": 35,
    "start_time": "2023-08-09T09:12:03.933Z"
   },
   {
    "duration": 130,
    "start_time": "2023-08-09T09:12:26.620Z"
   },
   {
    "duration": 127,
    "start_time": "2023-08-09T09:12:37.953Z"
   },
   {
    "duration": 22,
    "start_time": "2023-08-09T09:13:44.260Z"
   },
   {
    "duration": 6,
    "start_time": "2023-08-09T09:13:47.837Z"
   },
   {
    "duration": 6,
    "start_time": "2023-08-09T09:14:14.044Z"
   },
   {
    "duration": 125,
    "start_time": "2023-08-09T09:14:16.261Z"
   },
   {
    "duration": 132,
    "start_time": "2023-08-09T09:14:17.175Z"
   },
   {
    "duration": 136,
    "start_time": "2023-08-09T09:14:20.786Z"
   },
   {
    "duration": 1223,
    "start_time": "2023-08-09T09:15:05.783Z"
   },
   {
    "duration": 172,
    "start_time": "2023-08-09T09:15:07.009Z"
   },
   {
    "duration": 16,
    "start_time": "2023-08-09T09:15:07.183Z"
   },
   {
    "duration": 28,
    "start_time": "2023-08-09T09:15:07.201Z"
   },
   {
    "duration": 20,
    "start_time": "2023-08-09T09:15:07.232Z"
   },
   {
    "duration": 80,
    "start_time": "2023-08-09T09:15:07.254Z"
   },
   {
    "duration": 96,
    "start_time": "2023-08-09T09:15:07.336Z"
   },
   {
    "duration": 21,
    "start_time": "2023-08-09T09:15:07.433Z"
   },
   {
    "duration": 128,
    "start_time": "2023-08-09T09:15:07.455Z"
   },
   {
    "duration": 14,
    "start_time": "2023-08-09T09:15:07.584Z"
   },
   {
    "duration": 6,
    "start_time": "2023-08-09T09:15:07.600Z"
   },
   {
    "duration": 416,
    "start_time": "2023-08-09T09:15:07.607Z"
   },
   {
    "duration": 51,
    "start_time": "2023-08-09T09:15:08.025Z"
   },
   {
    "duration": 42,
    "start_time": "2023-08-09T09:15:08.079Z"
   },
   {
    "duration": 26,
    "start_time": "2023-08-09T09:15:08.123Z"
   },
   {
    "duration": 52,
    "start_time": "2023-08-09T09:15:08.174Z"
   },
   {
    "duration": 13,
    "start_time": "2023-08-09T09:15:08.227Z"
   },
   {
    "duration": 59,
    "start_time": "2023-08-09T09:15:08.241Z"
   },
   {
    "duration": 73,
    "start_time": "2023-08-09T09:15:08.301Z"
   },
   {
    "duration": 50,
    "start_time": "2023-08-09T09:15:08.376Z"
   },
   {
    "duration": 221,
    "start_time": "2023-08-09T09:15:08.427Z"
   },
   {
    "duration": 103,
    "start_time": "2023-08-09T09:15:08.650Z"
   },
   {
    "duration": 0,
    "start_time": "2023-08-09T09:15:08.755Z"
   },
   {
    "duration": 1,
    "start_time": "2023-08-09T09:15:08.755Z"
   },
   {
    "duration": 1,
    "start_time": "2023-08-09T09:15:08.756Z"
   },
   {
    "duration": 0,
    "start_time": "2023-08-09T09:15:08.758Z"
   },
   {
    "duration": 0,
    "start_time": "2023-08-09T09:15:08.758Z"
   },
   {
    "duration": 24,
    "start_time": "2023-08-09T09:15:23.575Z"
   },
   {
    "duration": 6,
    "start_time": "2023-08-09T09:15:27.002Z"
   },
   {
    "duration": 129,
    "start_time": "2023-08-09T09:15:27.736Z"
   },
   {
    "duration": 142,
    "start_time": "2023-08-09T09:15:28.655Z"
   },
   {
    "duration": 134,
    "start_time": "2023-08-09T09:15:29.247Z"
   },
   {
    "duration": 212,
    "start_time": "2023-08-09T09:15:29.980Z"
   },
   {
    "duration": 6,
    "start_time": "2023-08-09T09:16:26.290Z"
   },
   {
    "duration": 126,
    "start_time": "2023-08-09T09:16:27.041Z"
   },
   {
    "duration": 136,
    "start_time": "2023-08-09T09:16:30.621Z"
   },
   {
    "duration": 135,
    "start_time": "2023-08-09T09:16:31.544Z"
   },
   {
    "duration": 211,
    "start_time": "2023-08-09T09:16:32.244Z"
   },
   {
    "duration": 5,
    "start_time": "2023-08-09T09:17:44.489Z"
   },
   {
    "duration": 132,
    "start_time": "2023-08-09T09:17:47.670Z"
   },
   {
    "duration": 7,
    "start_time": "2023-08-09T09:19:04.170Z"
   },
   {
    "duration": 142,
    "start_time": "2023-08-09T09:19:06.080Z"
   },
   {
    "duration": 5,
    "start_time": "2023-08-09T09:20:46.652Z"
   },
   {
    "duration": 126,
    "start_time": "2023-08-09T09:20:47.428Z"
   },
   {
    "duration": 6,
    "start_time": "2023-08-09T09:21:14.162Z"
   },
   {
    "duration": 133,
    "start_time": "2023-08-09T09:21:14.902Z"
   },
   {
    "duration": 134,
    "start_time": "2023-08-09T09:21:21.196Z"
   },
   {
    "duration": 137,
    "start_time": "2023-08-09T09:21:21.938Z"
   },
   {
    "duration": 204,
    "start_time": "2023-08-09T09:21:22.798Z"
   },
   {
    "duration": 25,
    "start_time": "2023-08-09T09:23:35.031Z"
   },
   {
    "duration": 6,
    "start_time": "2023-08-09T09:23:42.568Z"
   },
   {
    "duration": 134,
    "start_time": "2023-08-09T09:23:44.947Z"
   },
   {
    "duration": 139,
    "start_time": "2023-08-09T09:23:45.735Z"
   },
   {
    "duration": 131,
    "start_time": "2023-08-09T09:23:46.532Z"
   },
   {
    "duration": 196,
    "start_time": "2023-08-09T09:23:47.296Z"
   },
   {
    "duration": 6,
    "start_time": "2023-08-09T09:24:20.585Z"
   },
   {
    "duration": 142,
    "start_time": "2023-08-09T09:24:23.848Z"
   },
   {
    "duration": 36,
    "start_time": "2023-08-09T12:44:16.823Z"
   },
   {
    "duration": 5,
    "start_time": "2023-08-09T12:53:56.280Z"
   },
   {
    "duration": 141,
    "start_time": "2023-08-09T12:54:01.245Z"
   },
   {
    "duration": 1229,
    "start_time": "2023-08-09T12:56:50.523Z"
   },
   {
    "duration": 165,
    "start_time": "2023-08-09T12:56:51.755Z"
   },
   {
    "duration": 18,
    "start_time": "2023-08-09T12:56:51.922Z"
   },
   {
    "duration": 33,
    "start_time": "2023-08-09T12:56:51.942Z"
   },
   {
    "duration": 17,
    "start_time": "2023-08-09T12:56:51.977Z"
   },
   {
    "duration": 91,
    "start_time": "2023-08-09T12:56:51.997Z"
   },
   {
    "duration": 92,
    "start_time": "2023-08-09T12:56:52.090Z"
   },
   {
    "duration": 20,
    "start_time": "2023-08-09T12:56:52.183Z"
   },
   {
    "duration": 132,
    "start_time": "2023-08-09T12:56:52.205Z"
   },
   {
    "duration": 15,
    "start_time": "2023-08-09T12:56:52.341Z"
   },
   {
    "duration": 11,
    "start_time": "2023-08-09T12:56:52.375Z"
   },
   {
    "duration": 436,
    "start_time": "2023-08-09T12:56:52.387Z"
   },
   {
    "duration": 52,
    "start_time": "2023-08-09T12:56:52.825Z"
   },
   {
    "duration": 62,
    "start_time": "2023-08-09T12:56:52.879Z"
   },
   {
    "duration": 37,
    "start_time": "2023-08-09T12:56:52.942Z"
   },
   {
    "duration": 54,
    "start_time": "2023-08-09T12:56:52.980Z"
   },
   {
    "duration": 14,
    "start_time": "2023-08-09T12:56:53.036Z"
   },
   {
    "duration": 99,
    "start_time": "2023-08-09T12:56:53.076Z"
   },
   {
    "duration": 64,
    "start_time": "2023-08-09T12:56:53.176Z"
   },
   {
    "duration": 69,
    "start_time": "2023-08-09T12:56:53.242Z"
   },
   {
    "duration": 246,
    "start_time": "2023-08-09T12:56:53.312Z"
   },
   {
    "duration": 33,
    "start_time": "2023-08-09T12:56:53.560Z"
   },
   {
    "duration": 10,
    "start_time": "2023-08-09T12:56:53.595Z"
   },
   {
    "duration": 174,
    "start_time": "2023-08-09T12:56:53.606Z"
   },
   {
    "duration": 167,
    "start_time": "2023-08-09T12:56:53.782Z"
   },
   {
    "duration": 187,
    "start_time": "2023-08-09T12:56:53.952Z"
   },
   {
    "duration": 222,
    "start_time": "2023-08-09T12:56:54.140Z"
   },
   {
    "duration": 1244,
    "start_time": "2023-08-09T12:57:06.939Z"
   },
   {
    "duration": 172,
    "start_time": "2023-08-09T12:57:08.184Z"
   },
   {
    "duration": 18,
    "start_time": "2023-08-09T12:57:08.357Z"
   },
   {
    "duration": 19,
    "start_time": "2023-08-09T12:57:08.377Z"
   },
   {
    "duration": 15,
    "start_time": "2023-08-09T12:57:08.397Z"
   },
   {
    "duration": 94,
    "start_time": "2023-08-09T12:57:08.414Z"
   },
   {
    "duration": 94,
    "start_time": "2023-08-09T12:57:08.510Z"
   },
   {
    "duration": 20,
    "start_time": "2023-08-09T12:57:08.606Z"
   },
   {
    "duration": 134,
    "start_time": "2023-08-09T12:57:08.627Z"
   },
   {
    "duration": 19,
    "start_time": "2023-08-09T12:57:08.763Z"
   },
   {
    "duration": 18,
    "start_time": "2023-08-09T12:57:08.784Z"
   },
   {
    "duration": 395,
    "start_time": "2023-08-09T12:57:08.804Z"
   },
   {
    "duration": 38,
    "start_time": "2023-08-09T12:57:09.200Z"
   },
   {
    "duration": 58,
    "start_time": "2023-08-09T12:57:09.240Z"
   },
   {
    "duration": 29,
    "start_time": "2023-08-09T12:57:09.300Z"
   },
   {
    "duration": 64,
    "start_time": "2023-08-09T12:57:09.331Z"
   },
   {
    "duration": 15,
    "start_time": "2023-08-09T12:57:09.397Z"
   },
   {
    "duration": 56,
    "start_time": "2023-08-09T12:57:09.413Z"
   },
   {
    "duration": 66,
    "start_time": "2023-08-09T12:57:09.474Z"
   },
   {
    "duration": 71,
    "start_time": "2023-08-09T12:57:09.543Z"
   },
   {
    "duration": 221,
    "start_time": "2023-08-09T12:57:09.616Z"
   },
   {
    "duration": 22,
    "start_time": "2023-08-09T12:57:09.839Z"
   },
   {
    "duration": 5,
    "start_time": "2023-08-09T12:57:09.875Z"
   },
   {
    "duration": 150,
    "start_time": "2023-08-09T12:57:09.882Z"
   },
   {
    "duration": 156,
    "start_time": "2023-08-09T12:57:10.033Z"
   },
   {
    "duration": 186,
    "start_time": "2023-08-09T12:57:10.191Z"
   },
   {
    "duration": 251,
    "start_time": "2023-08-09T12:57:10.379Z"
   },
   {
    "duration": 111,
    "start_time": "2023-08-09T12:58:20.037Z"
   },
   {
    "duration": 214,
    "start_time": "2023-08-09T12:58:30.584Z"
   },
   {
    "duration": 1185,
    "start_time": "2023-08-09T12:58:45.954Z"
   },
   {
    "duration": 183,
    "start_time": "2023-08-09T12:58:47.141Z"
   },
   {
    "duration": 13,
    "start_time": "2023-08-09T12:58:47.326Z"
   },
   {
    "duration": 23,
    "start_time": "2023-08-09T12:58:47.342Z"
   },
   {
    "duration": 17,
    "start_time": "2023-08-09T12:58:47.375Z"
   },
   {
    "duration": 83,
    "start_time": "2023-08-09T12:58:47.394Z"
   },
   {
    "duration": 77,
    "start_time": "2023-08-09T12:58:47.479Z"
   },
   {
    "duration": 32,
    "start_time": "2023-08-09T12:58:47.557Z"
   },
   {
    "duration": 134,
    "start_time": "2023-08-09T12:58:47.591Z"
   },
   {
    "duration": 13,
    "start_time": "2023-08-09T12:58:47.728Z"
   },
   {
    "duration": 7,
    "start_time": "2023-08-09T12:58:47.743Z"
   },
   {
    "duration": 418,
    "start_time": "2023-08-09T12:58:47.751Z"
   },
   {
    "duration": 37,
    "start_time": "2023-08-09T12:58:48.174Z"
   },
   {
    "duration": 36,
    "start_time": "2023-08-09T12:58:48.213Z"
   },
   {
    "duration": 41,
    "start_time": "2023-08-09T12:58:48.251Z"
   },
   {
    "duration": 53,
    "start_time": "2023-08-09T12:58:48.293Z"
   },
   {
    "duration": 34,
    "start_time": "2023-08-09T12:58:48.348Z"
   },
   {
    "duration": 37,
    "start_time": "2023-08-09T12:58:48.384Z"
   },
   {
    "duration": 84,
    "start_time": "2023-08-09T12:58:48.423Z"
   },
   {
    "duration": 69,
    "start_time": "2023-08-09T12:58:48.509Z"
   },
   {
    "duration": 220,
    "start_time": "2023-08-09T12:58:48.579Z"
   },
   {
    "duration": 23,
    "start_time": "2023-08-09T12:58:48.800Z"
   },
   {
    "duration": 10,
    "start_time": "2023-08-09T12:58:48.825Z"
   },
   {
    "duration": 153,
    "start_time": "2023-08-09T12:58:48.837Z"
   },
   {
    "duration": 150,
    "start_time": "2023-08-09T12:58:48.992Z"
   },
   {
    "duration": 148,
    "start_time": "2023-08-09T12:58:49.143Z"
   },
   {
    "duration": 228,
    "start_time": "2023-08-09T12:58:49.292Z"
   },
   {
    "duration": 1234,
    "start_time": "2023-08-09T14:39:19.701Z"
   },
   {
    "duration": 158,
    "start_time": "2023-08-09T14:39:20.937Z"
   },
   {
    "duration": 17,
    "start_time": "2023-08-09T14:39:21.097Z"
   },
   {
    "duration": 26,
    "start_time": "2023-08-09T14:39:21.116Z"
   },
   {
    "duration": 28,
    "start_time": "2023-08-09T14:39:21.144Z"
   },
   {
    "duration": 78,
    "start_time": "2023-08-09T14:39:21.174Z"
   },
   {
    "duration": 88,
    "start_time": "2023-08-09T14:39:21.254Z"
   },
   {
    "duration": 24,
    "start_time": "2023-08-09T14:39:21.344Z"
   },
   {
    "duration": 134,
    "start_time": "2023-08-09T14:39:21.370Z"
   },
   {
    "duration": 14,
    "start_time": "2023-08-09T14:39:21.508Z"
   },
   {
    "duration": 13,
    "start_time": "2023-08-09T14:39:21.524Z"
   },
   {
    "duration": 417,
    "start_time": "2023-08-09T14:39:21.539Z"
   },
   {
    "duration": 52,
    "start_time": "2023-08-09T14:39:21.959Z"
   },
   {
    "duration": 38,
    "start_time": "2023-08-09T14:39:22.013Z"
   },
   {
    "duration": 27,
    "start_time": "2023-08-09T14:39:22.053Z"
   },
   {
    "duration": 76,
    "start_time": "2023-08-09T14:39:22.081Z"
   },
   {
    "duration": 14,
    "start_time": "2023-08-09T14:39:22.159Z"
   },
   {
    "duration": 77,
    "start_time": "2023-08-09T14:39:22.175Z"
   },
   {
    "duration": 60,
    "start_time": "2023-08-09T14:39:22.255Z"
   },
   {
    "duration": 52,
    "start_time": "2023-08-09T14:39:22.317Z"
   },
   {
    "duration": 223,
    "start_time": "2023-08-09T14:39:22.370Z"
   },
   {
    "duration": 29,
    "start_time": "2023-08-09T14:39:22.594Z"
   },
   {
    "duration": 6,
    "start_time": "2023-08-09T14:39:22.625Z"
   },
   {
    "duration": 151,
    "start_time": "2023-08-09T14:39:22.632Z"
   },
   {
    "duration": 151,
    "start_time": "2023-08-09T14:39:22.785Z"
   },
   {
    "duration": 148,
    "start_time": "2023-08-09T14:39:22.937Z"
   },
   {
    "duration": 213,
    "start_time": "2023-08-09T14:39:23.086Z"
   },
   {
    "duration": 8,
    "start_time": "2023-08-09T14:41:28.771Z"
   },
   {
    "duration": 20,
    "start_time": "2023-08-09T14:41:32.541Z"
   },
   {
    "duration": 15,
    "start_time": "2023-08-09T14:41:41.618Z"
   },
   {
    "duration": 4,
    "start_time": "2023-08-09T14:42:07.814Z"
   },
   {
    "duration": 8,
    "start_time": "2023-08-09T14:42:18.165Z"
   },
   {
    "duration": 15,
    "start_time": "2023-08-09T14:50:57.641Z"
   },
   {
    "duration": 1529,
    "start_time": "2023-08-10T08:30:02.284Z"
   },
   {
    "duration": 725,
    "start_time": "2023-08-10T08:30:03.815Z"
   },
   {
    "duration": 14,
    "start_time": "2023-08-10T08:30:04.542Z"
   },
   {
    "duration": 21,
    "start_time": "2023-08-10T08:30:04.558Z"
   },
   {
    "duration": 14,
    "start_time": "2023-08-10T08:30:04.581Z"
   },
   {
    "duration": 82,
    "start_time": "2023-08-10T08:30:04.597Z"
   },
   {
    "duration": 91,
    "start_time": "2023-08-10T08:30:04.680Z"
   },
   {
    "duration": 21,
    "start_time": "2023-08-10T08:30:04.773Z"
   },
   {
    "duration": 137,
    "start_time": "2023-08-10T08:30:04.795Z"
   },
   {
    "duration": 15,
    "start_time": "2023-08-10T08:30:04.933Z"
   },
   {
    "duration": 21,
    "start_time": "2023-08-10T08:30:04.950Z"
   },
   {
    "duration": 732,
    "start_time": "2023-08-10T08:30:04.973Z"
   },
   {
    "duration": 39,
    "start_time": "2023-08-10T08:30:05.707Z"
   },
   {
    "duration": 55,
    "start_time": "2023-08-10T08:30:05.748Z"
   },
   {
    "duration": 28,
    "start_time": "2023-08-10T08:30:05.805Z"
   },
   {
    "duration": 71,
    "start_time": "2023-08-10T08:30:05.835Z"
   },
   {
    "duration": 14,
    "start_time": "2023-08-10T08:30:05.908Z"
   },
   {
    "duration": 58,
    "start_time": "2023-08-10T08:30:05.923Z"
   },
   {
    "duration": 67,
    "start_time": "2023-08-10T08:30:05.983Z"
   },
   {
    "duration": 77,
    "start_time": "2023-08-10T08:30:06.052Z"
   },
   {
    "duration": 223,
    "start_time": "2023-08-10T08:30:06.131Z"
   },
   {
    "duration": 29,
    "start_time": "2023-08-10T08:30:06.356Z"
   },
   {
    "duration": 43,
    "start_time": "2023-08-10T08:30:06.387Z"
   },
   {
    "duration": 171,
    "start_time": "2023-08-10T08:30:06.432Z"
   },
   {
    "duration": 151,
    "start_time": "2023-08-10T08:30:06.605Z"
   },
   {
    "duration": 164,
    "start_time": "2023-08-10T08:30:06.758Z"
   },
   {
    "duration": 227,
    "start_time": "2023-08-10T08:30:06.924Z"
   },
   {
    "duration": 352,
    "start_time": "2023-08-10T08:30:48.155Z"
   },
   {
    "duration": 20,
    "start_time": "2023-08-10T09:23:17.714Z"
   },
   {
    "duration": 110,
    "start_time": "2023-08-10T09:27:18.489Z"
   },
   {
    "duration": 12,
    "start_time": "2023-08-10T09:27:25.271Z"
   },
   {
    "duration": 49,
    "start_time": "2023-08-10T09:27:31.581Z"
   },
   {
    "duration": 41,
    "start_time": "2023-08-10T09:28:21.575Z"
   },
   {
    "duration": 33,
    "start_time": "2023-08-10T09:29:15.332Z"
   },
   {
    "duration": 35,
    "start_time": "2023-08-10T09:30:41.934Z"
   },
   {
    "duration": 36,
    "start_time": "2023-08-10T09:30:50.496Z"
   },
   {
    "duration": 39,
    "start_time": "2023-08-10T09:31:04.930Z"
   },
   {
    "duration": 60,
    "start_time": "2023-08-10T11:17:09.987Z"
   },
   {
    "duration": 1937,
    "start_time": "2023-08-10T11:18:34.858Z"
   },
   {
    "duration": 1840,
    "start_time": "2023-08-10T11:18:48.730Z"
   },
   {
    "duration": 61,
    "start_time": "2023-08-10T11:19:03.710Z"
   },
   {
    "duration": 1846,
    "start_time": "2023-08-10T11:19:22.520Z"
   },
   {
    "duration": 62,
    "start_time": "2023-08-10T11:19:37.372Z"
   },
   {
    "duration": 89,
    "start_time": "2023-08-10T11:23:01.875Z"
   },
   {
    "duration": 18,
    "start_time": "2023-08-10T11:27:10.899Z"
   },
   {
    "duration": 1346,
    "start_time": "2023-08-10T11:27:34.417Z"
   },
   {
    "duration": 174,
    "start_time": "2023-08-10T11:27:35.766Z"
   },
   {
    "duration": 15,
    "start_time": "2023-08-10T11:27:35.943Z"
   },
   {
    "duration": 48,
    "start_time": "2023-08-10T11:27:35.960Z"
   },
   {
    "duration": 35,
    "start_time": "2023-08-10T11:27:36.010Z"
   },
   {
    "duration": 82,
    "start_time": "2023-08-10T11:27:36.048Z"
   },
   {
    "duration": 93,
    "start_time": "2023-08-10T11:27:36.132Z"
   },
   {
    "duration": 20,
    "start_time": "2023-08-10T11:27:36.227Z"
   },
   {
    "duration": 144,
    "start_time": "2023-08-10T11:27:36.250Z"
   },
   {
    "duration": 112,
    "start_time": "2023-08-10T11:27:36.397Z"
   },
   {
    "duration": 0,
    "start_time": "2023-08-10T11:27:36.511Z"
   },
   {
    "duration": 0,
    "start_time": "2023-08-10T11:27:36.513Z"
   },
   {
    "duration": 0,
    "start_time": "2023-08-10T11:27:36.514Z"
   },
   {
    "duration": 0,
    "start_time": "2023-08-10T11:27:36.515Z"
   },
   {
    "duration": 0,
    "start_time": "2023-08-10T11:27:36.516Z"
   },
   {
    "duration": 0,
    "start_time": "2023-08-10T11:27:36.517Z"
   },
   {
    "duration": 0,
    "start_time": "2023-08-10T11:27:36.518Z"
   },
   {
    "duration": 0,
    "start_time": "2023-08-10T11:27:36.519Z"
   },
   {
    "duration": 0,
    "start_time": "2023-08-10T11:27:36.520Z"
   },
   {
    "duration": 0,
    "start_time": "2023-08-10T11:27:36.522Z"
   },
   {
    "duration": 0,
    "start_time": "2023-08-10T11:27:36.523Z"
   },
   {
    "duration": 0,
    "start_time": "2023-08-10T11:27:36.524Z"
   },
   {
    "duration": 0,
    "start_time": "2023-08-10T11:27:36.526Z"
   },
   {
    "duration": 0,
    "start_time": "2023-08-10T11:27:36.527Z"
   },
   {
    "duration": 0,
    "start_time": "2023-08-10T11:27:36.528Z"
   },
   {
    "duration": 0,
    "start_time": "2023-08-10T11:27:36.530Z"
   },
   {
    "duration": 0,
    "start_time": "2023-08-10T11:27:36.531Z"
   },
   {
    "duration": 0,
    "start_time": "2023-08-10T11:27:36.568Z"
   },
   {
    "duration": 43,
    "start_time": "2023-08-10T11:29:41.326Z"
   },
   {
    "duration": 1352,
    "start_time": "2023-08-10T11:29:47.979Z"
   },
   {
    "duration": 162,
    "start_time": "2023-08-10T11:29:49.334Z"
   },
   {
    "duration": 15,
    "start_time": "2023-08-10T11:29:49.498Z"
   },
   {
    "duration": 17,
    "start_time": "2023-08-10T11:29:49.514Z"
   },
   {
    "duration": 35,
    "start_time": "2023-08-10T11:29:49.533Z"
   },
   {
    "duration": 73,
    "start_time": "2023-08-10T11:29:49.569Z"
   },
   {
    "duration": 84,
    "start_time": "2023-08-10T11:29:49.644Z"
   },
   {
    "duration": 19,
    "start_time": "2023-08-10T11:29:49.730Z"
   },
   {
    "duration": 133,
    "start_time": "2023-08-10T11:29:49.768Z"
   },
   {
    "duration": 42,
    "start_time": "2023-08-10T11:29:49.903Z"
   },
   {
    "duration": 30,
    "start_time": "2023-08-10T11:29:49.947Z"
   },
   {
    "duration": 9,
    "start_time": "2023-08-10T11:29:49.978Z"
   },
   {
    "duration": 444,
    "start_time": "2023-08-10T11:29:49.989Z"
   },
   {
    "duration": 49,
    "start_time": "2023-08-10T11:29:50.437Z"
   },
   {
    "duration": 39,
    "start_time": "2023-08-10T11:29:50.488Z"
   },
   {
    "duration": 46,
    "start_time": "2023-08-10T11:29:50.529Z"
   },
   {
    "duration": 49,
    "start_time": "2023-08-10T11:29:50.577Z"
   },
   {
    "duration": 13,
    "start_time": "2023-08-10T11:29:50.628Z"
   },
   {
    "duration": 76,
    "start_time": "2023-08-10T11:29:50.642Z"
   },
   {
    "duration": 125,
    "start_time": "2023-08-10T11:29:50.720Z"
   },
   {
    "duration": 0,
    "start_time": "2023-08-10T11:29:50.847Z"
   },
   {
    "duration": 0,
    "start_time": "2023-08-10T11:29:50.849Z"
   },
   {
    "duration": 0,
    "start_time": "2023-08-10T11:29:50.850Z"
   },
   {
    "duration": 0,
    "start_time": "2023-08-10T11:29:50.852Z"
   },
   {
    "duration": 0,
    "start_time": "2023-08-10T11:29:50.868Z"
   },
   {
    "duration": 0,
    "start_time": "2023-08-10T11:29:50.869Z"
   },
   {
    "duration": 0,
    "start_time": "2023-08-10T11:29:50.870Z"
   },
   {
    "duration": 0,
    "start_time": "2023-08-10T11:29:50.871Z"
   },
   {
    "duration": 1876,
    "start_time": "2023-08-10T11:30:36.477Z"
   },
   {
    "duration": 206,
    "start_time": "2023-08-10T11:30:56.112Z"
   },
   {
    "duration": 62,
    "start_time": "2023-08-10T11:33:04.627Z"
   },
   {
    "duration": 27,
    "start_time": "2023-08-10T11:33:07.496Z"
   },
   {
    "duration": 1302,
    "start_time": "2023-08-10T11:33:27.573Z"
   },
   {
    "duration": 159,
    "start_time": "2023-08-10T11:33:28.877Z"
   },
   {
    "duration": 16,
    "start_time": "2023-08-10T11:33:29.038Z"
   },
   {
    "duration": 17,
    "start_time": "2023-08-10T11:33:29.066Z"
   },
   {
    "duration": 14,
    "start_time": "2023-08-10T11:33:29.085Z"
   },
   {
    "duration": 87,
    "start_time": "2023-08-10T11:33:29.101Z"
   },
   {
    "duration": 88,
    "start_time": "2023-08-10T11:33:29.191Z"
   },
   {
    "duration": 21,
    "start_time": "2023-08-10T11:33:29.281Z"
   },
   {
    "duration": 140,
    "start_time": "2023-08-10T11:33:29.304Z"
   },
   {
    "duration": 56,
    "start_time": "2023-08-10T11:33:29.445Z"
   },
   {
    "duration": 11,
    "start_time": "2023-08-10T11:33:29.502Z"
   },
   {
    "duration": 22,
    "start_time": "2023-08-10T11:33:29.514Z"
   },
   {
    "duration": 457,
    "start_time": "2023-08-10T11:33:29.537Z"
   },
   {
    "duration": 41,
    "start_time": "2023-08-10T11:33:29.997Z"
   },
   {
    "duration": 96,
    "start_time": "2023-08-10T11:33:30.040Z"
   },
   {
    "duration": 100,
    "start_time": "2023-08-10T11:33:30.139Z"
   },
   {
    "duration": 129,
    "start_time": "2023-08-10T11:33:30.241Z"
   },
   {
    "duration": 60,
    "start_time": "2023-08-10T11:33:30.373Z"
   },
   {
    "duration": 131,
    "start_time": "2023-08-10T11:33:30.435Z"
   },
   {
    "duration": 2166,
    "start_time": "2023-08-10T11:33:30.569Z"
   },
   {
    "duration": 0,
    "start_time": "2023-08-10T11:33:32.737Z"
   },
   {
    "duration": 0,
    "start_time": "2023-08-10T11:33:32.739Z"
   },
   {
    "duration": 0,
    "start_time": "2023-08-10T11:33:32.740Z"
   },
   {
    "duration": 0,
    "start_time": "2023-08-10T11:33:32.741Z"
   },
   {
    "duration": 0,
    "start_time": "2023-08-10T11:33:32.742Z"
   },
   {
    "duration": 0,
    "start_time": "2023-08-10T11:33:32.743Z"
   },
   {
    "duration": 0,
    "start_time": "2023-08-10T11:33:32.745Z"
   },
   {
    "duration": 0,
    "start_time": "2023-08-10T11:33:32.746Z"
   },
   {
    "duration": 62,
    "start_time": "2023-08-10T11:35:16.505Z"
   },
   {
    "duration": 155,
    "start_time": "2023-08-10T11:35:21.623Z"
   },
   {
    "duration": 81,
    "start_time": "2023-08-10T11:38:18.233Z"
   },
   {
    "duration": 2017,
    "start_time": "2023-08-10T11:38:33.567Z"
   },
   {
    "duration": 2084,
    "start_time": "2023-08-10T11:38:42.136Z"
   },
   {
    "duration": 64,
    "start_time": "2023-08-10T11:39:21.617Z"
   },
   {
    "duration": 63,
    "start_time": "2023-08-10T11:41:02.665Z"
   },
   {
    "duration": 68,
    "start_time": "2023-08-10T11:41:25.587Z"
   },
   {
    "duration": 80,
    "start_time": "2023-08-10T11:43:17.787Z"
   },
   {
    "duration": 55,
    "start_time": "2023-08-10T11:47:59.609Z"
   },
   {
    "duration": 2044,
    "start_time": "2023-08-10T11:49:49.319Z"
   },
   {
    "duration": 2005,
    "start_time": "2023-08-10T11:50:44.743Z"
   },
   {
    "duration": 62,
    "start_time": "2023-08-10T11:51:56.325Z"
   },
   {
    "duration": 11,
    "start_time": "2023-08-10T11:52:38.376Z"
   },
   {
    "duration": 9,
    "start_time": "2023-08-10T11:53:06.508Z"
   },
   {
    "duration": 61,
    "start_time": "2023-08-10T11:55:00.683Z"
   },
   {
    "duration": 10,
    "start_time": "2023-08-10T11:55:02.930Z"
   },
   {
    "duration": 55,
    "start_time": "2023-08-10T11:55:25.611Z"
   },
   {
    "duration": 10,
    "start_time": "2023-08-10T11:55:28.171Z"
   },
   {
    "duration": 1316,
    "start_time": "2023-08-10T11:55:36.162Z"
   },
   {
    "duration": 164,
    "start_time": "2023-08-10T11:55:37.480Z"
   },
   {
    "duration": 14,
    "start_time": "2023-08-10T11:55:37.646Z"
   },
   {
    "duration": 17,
    "start_time": "2023-08-10T11:55:37.666Z"
   },
   {
    "duration": 13,
    "start_time": "2023-08-10T11:55:37.686Z"
   },
   {
    "duration": 92,
    "start_time": "2023-08-10T11:55:37.701Z"
   },
   {
    "duration": 94,
    "start_time": "2023-08-10T11:55:37.794Z"
   },
   {
    "duration": 20,
    "start_time": "2023-08-10T11:55:37.890Z"
   },
   {
    "duration": 143,
    "start_time": "2023-08-10T11:55:37.911Z"
   },
   {
    "duration": 46,
    "start_time": "2023-08-10T11:55:38.056Z"
   },
   {
    "duration": 13,
    "start_time": "2023-08-10T11:55:38.104Z"
   },
   {
    "duration": 11,
    "start_time": "2023-08-10T11:55:38.118Z"
   },
   {
    "duration": 448,
    "start_time": "2023-08-10T11:55:38.131Z"
   },
   {
    "duration": 40,
    "start_time": "2023-08-10T11:55:38.582Z"
   },
   {
    "duration": 51,
    "start_time": "2023-08-10T11:55:38.624Z"
   },
   {
    "duration": 29,
    "start_time": "2023-08-10T11:55:38.676Z"
   },
   {
    "duration": 72,
    "start_time": "2023-08-10T11:55:38.706Z"
   },
   {
    "duration": 12,
    "start_time": "2023-08-10T11:55:38.779Z"
   },
   {
    "duration": 76,
    "start_time": "2023-08-10T11:55:38.793Z"
   },
   {
    "duration": 126,
    "start_time": "2023-08-10T11:55:38.871Z"
   },
   {
    "duration": 0,
    "start_time": "2023-08-10T11:55:38.999Z"
   },
   {
    "duration": 0,
    "start_time": "2023-08-10T11:55:39.001Z"
   },
   {
    "duration": 0,
    "start_time": "2023-08-10T11:55:39.002Z"
   },
   {
    "duration": 0,
    "start_time": "2023-08-10T11:55:39.003Z"
   },
   {
    "duration": 0,
    "start_time": "2023-08-10T11:55:39.004Z"
   },
   {
    "duration": 0,
    "start_time": "2023-08-10T11:55:39.005Z"
   },
   {
    "duration": 0,
    "start_time": "2023-08-10T11:55:39.006Z"
   },
   {
    "duration": 0,
    "start_time": "2023-08-10T11:55:39.007Z"
   },
   {
    "duration": 10,
    "start_time": "2023-08-10T11:56:40.609Z"
   },
   {
    "duration": 70,
    "start_time": "2023-08-10T11:57:05.883Z"
   },
   {
    "duration": 156,
    "start_time": "2023-08-10T11:57:09.212Z"
   },
   {
    "duration": 77,
    "start_time": "2023-08-10T11:57:43.705Z"
   },
   {
    "duration": 10,
    "start_time": "2023-08-10T11:57:45.373Z"
   },
   {
    "duration": 66,
    "start_time": "2023-08-10T11:58:31.980Z"
   },
   {
    "duration": 11,
    "start_time": "2023-08-10T11:58:33.613Z"
   },
   {
    "duration": 62,
    "start_time": "2023-08-10T11:58:47.093Z"
   },
   {
    "duration": 10,
    "start_time": "2023-08-10T11:58:56.601Z"
   },
   {
    "duration": 1918,
    "start_time": "2023-08-10T11:59:46.983Z"
   },
   {
    "duration": 2162,
    "start_time": "2023-08-10T12:00:29.492Z"
   },
   {
    "duration": 63,
    "start_time": "2023-08-10T12:02:13.737Z"
   },
   {
    "duration": 8,
    "start_time": "2023-08-10T12:03:58.985Z"
   },
   {
    "duration": 12,
    "start_time": "2023-08-10T12:05:33.180Z"
   },
   {
    "duration": 12,
    "start_time": "2023-08-10T12:08:17.597Z"
   },
   {
    "duration": 6,
    "start_time": "2023-08-10T12:25:17.237Z"
   },
   {
    "duration": 154,
    "start_time": "2023-08-10T12:25:20.300Z"
   },
   {
    "duration": 139,
    "start_time": "2023-08-10T12:25:25.988Z"
   },
   {
    "duration": 145,
    "start_time": "2023-08-10T12:25:27.672Z"
   },
   {
    "duration": 201,
    "start_time": "2023-08-10T12:25:29.540Z"
   },
   {
    "duration": 7,
    "start_time": "2023-08-10T12:29:59.403Z"
   },
   {
    "duration": 1396,
    "start_time": "2023-08-10T12:30:05.743Z"
   },
   {
    "duration": 165,
    "start_time": "2023-08-10T12:30:07.141Z"
   },
   {
    "duration": 16,
    "start_time": "2023-08-10T12:30:07.308Z"
   },
   {
    "duration": 38,
    "start_time": "2023-08-10T12:30:07.325Z"
   },
   {
    "duration": 14,
    "start_time": "2023-08-10T12:30:07.365Z"
   },
   {
    "duration": 110,
    "start_time": "2023-08-10T12:30:07.381Z"
   },
   {
    "duration": 88,
    "start_time": "2023-08-10T12:30:07.493Z"
   },
   {
    "duration": 20,
    "start_time": "2023-08-10T12:30:07.583Z"
   },
   {
    "duration": 149,
    "start_time": "2023-08-10T12:30:07.605Z"
   },
   {
    "duration": 44,
    "start_time": "2023-08-10T12:30:07.755Z"
   },
   {
    "duration": 11,
    "start_time": "2023-08-10T12:30:07.800Z"
   },
   {
    "duration": 15,
    "start_time": "2023-08-10T12:30:07.813Z"
   },
   {
    "duration": 443,
    "start_time": "2023-08-10T12:30:07.829Z"
   },
   {
    "duration": 43,
    "start_time": "2023-08-10T12:30:08.275Z"
   },
   {
    "duration": 88,
    "start_time": "2023-08-10T12:30:08.320Z"
   },
   {
    "duration": 28,
    "start_time": "2023-08-10T12:30:08.409Z"
   },
   {
    "duration": 63,
    "start_time": "2023-08-10T12:30:08.438Z"
   },
   {
    "duration": 13,
    "start_time": "2023-08-10T12:30:08.503Z"
   },
   {
    "duration": 77,
    "start_time": "2023-08-10T12:30:08.518Z"
   },
   {
    "duration": 56,
    "start_time": "2023-08-10T12:30:08.597Z"
   },
   {
    "duration": 243,
    "start_time": "2023-08-10T12:30:08.655Z"
   },
   {
    "duration": 7,
    "start_time": "2023-08-10T12:30:08.900Z"
   },
   {
    "duration": 175,
    "start_time": "2023-08-10T12:30:08.909Z"
   },
   {
    "duration": 155,
    "start_time": "2023-08-10T12:30:09.086Z"
   },
   {
    "duration": 161,
    "start_time": "2023-08-10T12:30:09.242Z"
   },
   {
    "duration": 230,
    "start_time": "2023-08-10T12:30:09.405Z"
   },
   {
    "duration": 1084,
    "start_time": "2023-10-20T19:24:43.995Z"
   },
   {
    "duration": 437,
    "start_time": "2023-10-20T19:24:45.081Z"
   },
   {
    "duration": 14,
    "start_time": "2023-10-20T19:24:45.519Z"
   },
   {
    "duration": 14,
    "start_time": "2023-10-20T19:24:45.534Z"
   },
   {
    "duration": 13,
    "start_time": "2023-10-20T19:24:45.550Z"
   },
   {
    "duration": 81,
    "start_time": "2023-10-20T19:24:45.565Z"
   },
   {
    "duration": 76,
    "start_time": "2023-10-20T19:24:45.648Z"
   },
   {
    "duration": 25,
    "start_time": "2023-10-20T19:24:45.725Z"
   },
   {
    "duration": 112,
    "start_time": "2023-10-20T19:24:45.751Z"
   },
   {
    "duration": 34,
    "start_time": "2023-10-20T19:24:45.865Z"
   },
   {
    "duration": 9,
    "start_time": "2023-10-20T19:24:45.901Z"
   },
   {
    "duration": 5,
    "start_time": "2023-10-20T19:24:45.911Z"
   },
   {
    "duration": 360,
    "start_time": "2023-10-20T19:24:45.917Z"
   },
   {
    "duration": 34,
    "start_time": "2023-10-20T19:24:46.278Z"
   },
   {
    "duration": 53,
    "start_time": "2023-10-20T19:24:46.313Z"
   },
   {
    "duration": 35,
    "start_time": "2023-10-20T19:24:46.368Z"
   },
   {
    "duration": 64,
    "start_time": "2023-10-20T19:24:46.405Z"
   },
   {
    "duration": 10,
    "start_time": "2023-10-20T19:24:46.470Z"
   },
   {
    "duration": 64,
    "start_time": "2023-10-20T19:24:46.481Z"
   },
   {
    "duration": 44,
    "start_time": "2023-10-20T19:24:46.546Z"
   },
   {
    "duration": 202,
    "start_time": "2023-10-20T19:24:46.591Z"
   },
   {
    "duration": 6,
    "start_time": "2023-10-20T19:24:46.794Z"
   },
   {
    "duration": 128,
    "start_time": "2023-10-20T19:24:46.801Z"
   },
   {
    "duration": 133,
    "start_time": "2023-10-20T19:24:46.930Z"
   },
   {
    "duration": 134,
    "start_time": "2023-10-20T19:24:47.064Z"
   },
   {
    "duration": 203,
    "start_time": "2023-10-20T19:24:47.200Z"
   }
  ],
  "kernelspec": {
   "display_name": "Python 3 (ipykernel)",
   "language": "python",
   "name": "python3"
  },
  "language_info": {
   "codemirror_mode": {
    "name": "ipython",
    "version": 3
   },
   "file_extension": ".py",
   "mimetype": "text/x-python",
   "name": "python",
   "nbconvert_exporter": "python",
   "pygments_lexer": "ipython3",
   "version": "3.11.5"
  },
  "toc": {
   "base_numbering": 1,
   "nav_menu": {},
   "number_sections": false,
   "sideBar": true,
   "skip_h1_title": false,
   "title_cell": "Table of Contents",
   "title_sidebar": "Contents",
   "toc_cell": false,
   "toc_position": {
    "height": "calc(100% - 180px)",
    "left": "10px",
    "top": "150px",
    "width": "233.222px"
   },
   "toc_section_display": true,
   "toc_window_display": true
  }
 },
 "nbformat": 4,
 "nbformat_minor": 2
}
